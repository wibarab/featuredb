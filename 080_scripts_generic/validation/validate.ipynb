{
 "cells": [
  {
   "cell_type": "markdown",
   "id": "8fccc48a-93a3-408d-bd5d-509db359db17",
   "metadata": {
    "tags": []
   },
   "source": [
    "# WIBARAB FeatureDB Validation\n",
    "\n",
    "* Install & set up dependencies\n",
    "* extract schematron from RNG and transform to XSLT\n",
    "* run schematron-xslt on files"
   ]
  },
  {
   "cell_type": "code",
   "execution_count": 44,
   "id": "c65d4064-25b5-403a-974f-e0dcfca6a1bd",
   "metadata": {
    "tags": []
   },
   "outputs": [],
   "source": [
    "import io\n",
    "import os\n",
    "import requests\n",
    "import pathlib\n",
    "import re\n",
    "import sys\n",
    "import json\n",
    "import pandas as pd\n",
    "\n",
    "from pathlib import Path\n",
    "from urllib.parse import urlsplit\n",
    "from saxonpy import PySaxonProcessor, PyXdmValue\n",
    "from zipfile import ZipFile\n",
    "from lxml import isoschematron, etree"
   ]
  },
  {
   "cell_type": "code",
   "execution_count": 2,
   "id": "00a8d77c-292e-4c1f-9d34-5d139f3fb585",
   "metadata": {
    "tags": []
   },
   "outputs": [
    {
     "name": "stdout",
     "output_type": "stream",
     "text": [
      "Saxon/C 1.2.1 running with Saxon-HE 9.9.1.5C from Saxonica\n",
      "/home/dschopper/data/WIBARAB/featuredb/080_scripts_generic\n"
     ]
    }
   ],
   "source": [
    "tmpDir = \"tmp\"\n",
    "libDir = \"lib\"\n",
    "os.makedirs(tmpDir, exist_ok=True)\n",
    "\n",
    "\n",
    "# the root of the git repository\n",
    "dataHome = \"../..\"\n",
    "\n",
    "# rng schema\n",
    "rngSchema = dataHome + \"/803_RNG_Schematron/featuredb.rng\"\n",
    "# the path to the annotated TEI transcription files\n",
    "manannot = dataHome + \"/010_manannot\"\n",
    "# the path to the feature documents \n",
    "features = manannot + \"/features\"\n",
    "\n",
    "\n",
    "\n",
    "proc = PySaxonProcessor(license=False)\n",
    "# SaxonC 1.2.1 Python has many known bugs but isn't maintained anymore\n",
    "# Many of the documented API specs are not working\n",
    "print(proc.version)\n",
    "proc.set_cwd(os.path.dirname(os.path.abspath('')))\n",
    "print(proc.cwd)"
   ]
  },
  {
   "cell_type": "code",
   "execution_count": 3,
   "id": "8623f866-e5c8-4468-8c8c-52cd60c88b08",
   "metadata": {
    "tags": []
   },
   "outputs": [],
   "source": [
    "def downloadAndStore(url, force=False):   \n",
    "    #  filename of the file to be downloaded\n",
    "    fn = os.path.basename(url)\n",
    "    # fn w/o extension\n",
    "    basename = os.path.splitext(fn)[0]\n",
    "    # extension \n",
    "    ext = os.path.splitext(fn)[1]\n",
    "    dlFilePath = tmpDir + \"/\" + fn\n",
    "    if not os.path.exists(dlFilePath) and not force == True:\n",
    "        payload = requests.get(url).content\n",
    "        open(dlFilePath, 'wb').write(payload)\n",
    "    return dlFilePath"
   ]
  },
  {
   "cell_type": "code",
   "execution_count": 4,
   "id": "2e38bceb-17e4-4cc3-8a92-e1ced01bcf5c",
   "metadata": {
    "tags": []
   },
   "outputs": [],
   "source": [
    "def downloadAndUnzip(url):    \n",
    "    #  filename of the file to be downloaded\n",
    "    fn = os.path.basename(url)\n",
    "    # fn w/o extension\n",
    "    basename = os.path.splitext(fn)[0]\n",
    "    # extension \n",
    "    ext = os.path.splitext(fn)[1]\n",
    "    \n",
    "    if ext != \".zip\":\n",
    "        return \"not a zip archive\"\n",
    "    else:\n",
    "        zipFilePath = downloadAndStore(url)\n",
    "        # the path where the content should be extracted to\n",
    "        targetPath = libDir + \"/\" + basename\n",
    "        \n",
    "        \n",
    "        payload = requests.get(url).content\n",
    "        open(zipFilePath, 'wb').write(payload)\n",
    "        ZipFile(zipFilePath).extractall(path=targetPath)\n",
    "    \n",
    "    return targetPath"
   ]
  },
  {
   "cell_type": "code",
   "execution_count": 5,
   "id": "0dc25b5b-f6c5-4427-b09f-ee6e892fa167",
   "metadata": {
    "tags": []
   },
   "outputs": [],
   "source": [
    "def setupSchXSLT():\n",
    "    # install schematron\n",
    "    schDLURL = \"https://github.com/schxslt/schxslt/releases/download/v1.9.5/schxslt-1.9.5-xslt-only.zip\"\n",
    "    schHome = downloadAndUnzip(schDLURL)\n",
    "    schCompiler = schHome + \"/schxslt-1.9.5/2.0/compile-for-svrl.xsl\"\n",
    "    if os.path.exists(schCompiler):\n",
    "        return schCompiler\n",
    "    else: \n",
    "        print(\"error: something went wrong, cannot locate file '\" + schCompiler + \"'\")"
   ]
  },
  {
   "cell_type": "code",
   "execution_count": 6,
   "id": "7d065cfe-c23a-4774-b87d-8034f8171386",
   "metadata": {
    "tags": []
   },
   "outputs": [],
   "source": [
    "def transform(s, xsl, o, parameters=[]):\n",
    "    proc.set_configuration_property(\"xi\", \"on\")\n",
    "    saxon = proc.new_xslt_processor()\n",
    "    saxon.set_source(file_name=os.path.abspath(s))\n",
    "    for i in parameters:\n",
    "        saxon.set_parameter(name=i, value=proc.make_string_value(parameters[i]))\n",
    "    saxon.compile_stylesheet(stylesheet_file=os.path.abspath(xsl))\n",
    "    saxon.set_output_file(os.path.abspath(o))\n",
    "    saxon.transform_to_string()\n",
    "    if saxon.exception_occurred():\n",
    "        #print(getmembers(saxon))\n",
    "        saxon.get_error_message(0)\n",
    "        for i in range(saxon.exception_count()-1):\n",
    "            print(saxon.get_error_message(0))\n",
    "        print(os.path.abspath(s)+\" - \"+os.path.abspath(xsl)+\" -> \"+os.path.abspath(o)+\" failed\")\n",
    "    return o"
   ]
  },
  {
   "cell_type": "code",
   "execution_count": 7,
   "id": "e873708a-9d7a-4af4-ac10-921f44a7296a",
   "metadata": {
    "tags": []
   },
   "outputs": [],
   "source": [
    "# extract a schematron document embedded in an rng schema\n",
    "def extractSchematron(rng):\n",
    "    rng2sch = setupRNG2Sch()\n",
    "    sch = tmpDir + \"/\" + os.path.basename(rng) + \".sch\"\n",
    "    if not os.path.exists(sch):\n",
    "        transform(rng, rng2sch, sch)\n",
    "    return sch"
   ]
  },
  {
   "cell_type": "code",
   "execution_count": 8,
   "id": "9a8368a4-e428-4805-85bc-9c10fc5e1b2d",
   "metadata": {
    "tags": []
   },
   "outputs": [],
   "source": [
    "# compile a schematron document to an XSLT stylesheet\n",
    "def compileSchematron(sch):\n",
    "    outputPath = tmpDir + \"/\" + os.path.basename(sch) + \".xsl\"\n",
    "    schCompiler = setupSchXSLT()\n",
    "    \n",
    "    transform(sch, schCompiler, outputPath)\n",
    "    if os.path.exists(outputPath):\n",
    "        return outputPath\n",
    "    else: \n",
    "        print(\"error: something went wrong, cannot locate file '\" + outputPath + \"'\")"
   ]
  },
  {
   "cell_type": "code",
   "execution_count": 9,
   "id": "6b825837-90fa-4323-b9f6-7b7c2bed5928",
   "metadata": {
    "tags": []
   },
   "outputs": [],
   "source": [
    "# prepare rng2sch styelsheet\n",
    "# returns path to xsl\n",
    "def setupRNG2Sch():\n",
    "    RNG2SchtrDL = \"https://raw.githubusercontent.com/Schematron/schematron/master/trunk/converters/code/ToSchematron/ExtractSchFromRNG.xsl\"\n",
    "    rng2sch = downloadAndStore(RNG2SchtrDL)\n",
    "    # tweak XSLT \n",
    "    with open(rng2sch) as inputfile:\n",
    "        lines = inputfile.read()\n",
    "    lines = lines.replace( 'http://www.ascc.net/xml/schematron','http://purl.oclc.org/dsdl/schematron/')\n",
    "    lines = lines.replace( '<sch:schema','<sch:schema queryBinding=\"xslt2\"')\n",
    "    \n",
    "    with open(rng2sch, 'w') as file:\n",
    "        file.writelines(lines)\n",
    "    newPath = libDir+\"/\"+os.path.basename(rng2sch)\n",
    "    os.replace(rng2sch, newPath)\n",
    "    if os.path.exists(newPath):\n",
    "        return newPath\n",
    "    else:\n",
    "        print(\"error: something went wrong, cannot locate file '\" + newPath + \"'\")"
   ]
  },
  {
   "cell_type": "code",
   "execution_count": 55,
   "id": "1b98b89b-e02c-4ba6-a4c1-d2b3e77409c5",
   "metadata": {
    "tags": []
   },
   "outputs": [],
   "source": [
    "# validate document doc against schematron schema sch\n",
    "def schValidate(sch, path):\n",
    "    out = tmpDir + \"/validationReports/ \" + os.path.basename(path)\n",
    "    xsl = compileSchematron(sch)\n",
    "    transform(path, xsl, out)\n",
    "    report = etree.parse(out)\n",
    "    success = report.findall(\"{http://purl.oclc.org/dsdl/svrl}successful-report\")\n",
    "    \n",
    "    for s in success:\n",
    "        location = s.attrib['location'].replace('Q{http://www.tei-c.org/ns/1.0}','')\n",
    "        msg = s.find(\"{http://purl.oclc.org/dsdl/svrl}text\").text\n",
    "        return {\n",
    "            \"message\": location + \" \" + msg,\n",
    "            \"source\": path,\n",
    "            \"stage\": \"schematron\",\n",
    "            \"exceptionType\": s.tag\n",
    "        }\n",
    "    "
   ]
  },
  {
   "cell_type": "code",
   "execution_count": 11,
   "id": "57fbaca5-626e-4efa-bc68-c5b9a9db1b9f",
   "metadata": {
    "tags": []
   },
   "outputs": [],
   "source": [
    "def validate(path, rngSchema):\n",
    "    validationErrors = []\n",
    "    sch = extractSchematron(rngSchema)\n",
    "    try:\n",
    "        doc = etree.parse(path)\n",
    "        # relaxng validation\n",
    "        relaxng_doc = etree.parse(rngSchema)\n",
    "        relaxng = etree.RelaxNG(relaxng_doc)\n",
    "        relaxng.assertValid(doc)\n",
    "        \n",
    "        # schematron validation\n",
    "        schErrors = schValidate(sch, path)\n",
    "        validationErrors.append(schErrors)\n",
    "    \n",
    "    except etree.DocumentInvalid as e:\n",
    "        valErrObj = {\"message\": str(e), \"source\": path, \"stage\" : \"relaxng\", \"exceptionType\": type(e).__name__}\n",
    "        validationErrors.append(valErrObj)\n",
    "        schValidate(sch, path)\n",
    "        \n",
    "        \n",
    "    except etree.XMLSyntaxError as e:\n",
    "        valErrObj = {\"message\": str(e), \"source\": path, \"stage\" : \"parsing\", \"exceptionType\": type(e).__name__}\n",
    "        validationErrors.append(valErrObj)\n",
    "    return validationErrors"
   ]
  },
  {
   "cell_type": "code",
   "execution_count": 56,
   "id": "c6d0bb08-c905-4c5b-a2d9-8f6592ca8c0e",
   "metadata": {
    "tags": []
   },
   "outputs": [
    {
     "name": "stdout",
     "output_type": "stream",
     "text": [
      "validating ../../010_manannot/features/features_pron_sg_p2_c.xml\n",
      "validating ../../010_manannot/features/feature_bound_pronoun_2ps_sg_f_after_vowel.xml\n",
      "validating ../../010_manannot/features/feature_bound_pronoun_2ps_pl_m.xml\n",
      "validating ../../010_manannot/features/feature_bound_pronoun_2ps_sg_c_after_vowel.xml\n",
      "validating ../../010_manannot/features/features_pron_sg_p1_c.xml\n",
      "validating ../../010_manannot/features/feature_bound_pronoun_3ps_sg_m_after_vowel.xml\n",
      "validating ../../010_manannot/features/features_pron_pl_p3_f.xml\n",
      "validating ../../010_manannot/features/feature_bound_pronoun_3ps_sg_m_after_consonant.xml\n",
      "validating ../../010_manannot/features/feature_bound_pronoun_2ps_sg_c_after_consonant.xml\n",
      "validating ../../010_manannot/features/features_q.xml\n",
      "validating ../../010_manannot/features/features_pron_pl_p1_c.xml\n",
      "validating ../../010_manannot/features/features_pron_pl_p3_c.xml\n",
      "validating ../../010_manannot/features/features_pron_pl_p2_m.xml\n",
      "validating ../../010_manannot/features/features_pron_pl_p2_f.xml\n",
      "validating ../../010_manannot/features/features_pron_pl_p2c.xml\n",
      "validating ../../010_manannot/features/feature_bound_pronoun_1ps_pl.xml\n",
      "validating ../../010_manannot/features/features_neg_existential_particle.xml\n",
      "validating ../../010_manannot/features/features_pron_sg_p2_m.xml\n",
      "validating ../../010_manannot/features/features_pron_sg_p3_m.xml\n",
      "validating ../../010_manannot/features/feature_bound_pronoun_2ps_sg_f_after_consonants.xml\n",
      "validating ../../010_manannot/features/features_pron_pl_p3_m.xml\n",
      "validating ../../010_manannot/features/features_pron_sg_p2_f.xml\n",
      "validating ../../010_manannot/features/feature_bound_pronoun_2ps_pl_c.xml\n",
      "validating ../../010_manannot/features/features_pron_sg_p3_f.xml\n",
      "validating ../../010_manannot/features/features_pron_sg_p3_c.xml\n",
      "validating ../../010_manannot/features/feature_bound_pronoun_2ps_pl_f.xml\n",
      "validating ../../010_manannot/features/feature_bound_pronoun_1ps_sg_after_consonant.xml\n",
      "validating ../../010_manannot/features/feature_bound_pronoun_3ps_pl_m.xml\n",
      "validating ../../010_manannot/features/feature_bound_pronoun_1ps_sg_after_vowel.xml\n",
      "validating ../../010_manannot/features/features_interdentals.xml\n",
      "validating ../../010_manannot/features/feature_bound_pronoun_3ps_pl_f.xml\n",
      "validating ../../010_manannot/features/feature_bound_pronoun_3ps_pl_c.xml\n",
      "validating ../../010_manannot/features/features_template.xml\n",
      "validating ../../010_manannot/features/features_djim.xml\n",
      "validating ../../010_manannot/features/features_ghayn.xml\n",
      "validating ../../010_manannot/features/feature_bound_pronoun_2ps_sg_m_after_vowel.xml\n",
      "validating ../../010_manannot/features/features_resyllabification.xml\n",
      "validating ../../010_manannot/features/feature_bound_pronoun_3ps_sg_f.xml\n",
      "validating ../../010_manannot/features/features_existential_particle.xml\n",
      "validating ../../010_manannot/features/features_k.xml\n",
      "validating ../../010_manannot/features/feature_bound_pronoun_2ps_sg_m_after_consonant.xml\n",
      "validating ../../010_manannot/features/features_stressed_def_article.xml\n",
      "validating ../../010_manannot/features/feature_bound_pronoun_3ps_sg_c.xml\n",
      "validating ../../010_manannot/features/features_pron_pl_p1_c_reordered.xml\n"
     ]
    }
   ],
   "source": [
    "validationErrors = []\n",
    "\n",
    "for i in os.scandir(features):\n",
    "    if i.name.endswith('.xml') and i.is_file():\n",
    "        filename=os.path.basename(i)\n",
    "        filepath=features + \"/\" + filename\n",
    "        print(\"validating \" + filepath)\n",
    "        errs = validate(filepath, rngSchema)\n",
    "        validationErrors = errs + validationErrors"
   ]
  },
  {
   "cell_type": "code",
   "execution_count": 57,
   "id": "5673c617-f052-47fe-8aef-26c08315b149",
   "metadata": {
    "tags": []
   },
   "outputs": [],
   "source": [
    "df = pd.DataFrame(data=validationErrors)\n",
    "df = df.fillna(' ').T\n",
    "df = df.transpose()\n",
    "\n",
    "errorReport = \"tmp/validationReport.html\"\n",
    "with open(errorReport, 'w') as f:\n",
    "    f.write(df.to_html())\n"
   ]
  }
 ],
 "metadata": {
  "kernelspec": {
   "display_name": "Python 3 (ipykernel)",
   "language": "python",
   "name": "python3"
  },
  "language_info": {
   "codemirror_mode": {
    "name": "ipython",
    "version": 3
   },
   "file_extension": ".py",
   "mimetype": "text/x-python",
   "name": "python",
   "nbconvert_exporter": "python",
   "pygments_lexer": "ipython3",
   "version": "3.10.10"
  }
 },
 "nbformat": 4,
 "nbformat_minor": 5
}
