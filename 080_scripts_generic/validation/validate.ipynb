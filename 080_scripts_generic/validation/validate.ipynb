{
 "cells": [
  {
   "cell_type": "markdown",
   "id": "8fccc48a-93a3-408d-bd5d-509db359db17",
   "metadata": {
    "tags": []
   },
   "source": [
    "# WIBARAB FeatureDB Validation\n",
    "\n",
    "* Install & set up dependencies\n",
    "* extract schematron from RNG and transform to XSLT\n",
    "* run schematron-xslt on files"
   ]
  },
  {
   "cell_type": "code",
   "execution_count": 1,
   "id": "c65d4064-25b5-403a-974f-e0dcfca6a1bd",
   "metadata": {
    "tags": []
   },
   "outputs": [],
   "source": [
    "import io\n",
    "import os\n",
    "import requests\n",
    "import pathlib\n",
    "import re\n",
    "import sys\n",
    "import json\n",
    "import pandas as pd\n",
    "\n",
    "from pathlib import Path\n",
    "from urllib.parse import urlsplit\n",
    "from saxonpy import PySaxonProcessor, PyXdmValue\n",
    "from zipfile import ZipFile\n",
    "from lxml import isoschematron, etree"
   ]
  },
  {
   "cell_type": "code",
   "execution_count": 2,
   "id": "00a8d77c-292e-4c1f-9d34-5d139f3fb585",
   "metadata": {
    "tags": []
   },
   "outputs": [
    {
     "name": "stdout",
     "output_type": "stream",
     "text": [
      "Saxon/C 1.2.1 running with Saxon-HE 9.9.1.5C from Saxonica\n",
      "/home/dschopper/data/WIBARAB/featuredb/080_scripts_generic\n"
     ]
    }
   ],
   "source": [
    "tmpDir = \"tmp\"\n",
    "libDir = \"lib\"\n",
    "os.makedirs(tmpDir, exist_ok=True)\n",
    "os.makedirs(libDir, exist_ok=True)\n",
    "\n",
    "# the root of the git repository\n",
    "dataHome = \"../..\"\n",
    "\n",
    "# rng schema\n",
    "rngSchema = dataHome + \"/803_RNG_Schematron/featuredb.rng\"\n",
    "# the path to the annotated TEI transcription files\n",
    "manannot = dataHome + \"/010_manannot\"\n",
    "# the path to the feature documents \n",
    "features = manannot + \"/features\"\n",
    "\n",
    "proc = PySaxonProcessor(license=False)\n",
    "# SaxonC 1.2.1 Python has many known bugs but isn't maintained anymore\n",
    "# Many of the documented API specs are not working\n",
    "print(proc.version)\n",
    "proc.set_cwd(os.path.dirname(os.path.abspath('')))\n",
    "print(proc.cwd)"
   ]
  },
  {
   "cell_type": "code",
   "execution_count": 3,
   "id": "8623f866-e5c8-4468-8c8c-52cd60c88b08",
   "metadata": {
    "tags": []
   },
   "outputs": [],
   "source": [
    "def downloadAndStore(url, force=False):   \n",
    "    #  filename of the file to be downloaded\n",
    "    fn = os.path.basename(url)\n",
    "    # fn w/o extension\n",
    "    basename = os.path.splitext(fn)[0]\n",
    "    # extension \n",
    "    ext = os.path.splitext(fn)[1]\n",
    "    dlFilePath = tmpDir + \"/\" + fn\n",
    "    if not os.path.exists(dlFilePath) and not force == True:\n",
    "        payload = requests.get(url).content\n",
    "        open(dlFilePath, 'wb').write(payload)\n",
    "    return dlFilePath"
   ]
  },
  {
   "cell_type": "code",
   "execution_count": 4,
   "id": "2e38bceb-17e4-4cc3-8a92-e1ced01bcf5c",
   "metadata": {
    "tags": []
   },
   "outputs": [],
   "source": [
    "def downloadAndUnzip(url):    \n",
    "    #  filename of the file to be downloaded\n",
    "    fn = os.path.basename(url)\n",
    "    # fn w/o extension\n",
    "    basename = os.path.splitext(fn)[0]\n",
    "    # extension \n",
    "    ext = os.path.splitext(fn)[1]\n",
    "    \n",
    "    if ext != \".zip\":\n",
    "        return \"not a zip archive\"\n",
    "    else:\n",
    "        zipFilePath = downloadAndStore(url)\n",
    "        # the path where the content should be extracted to\n",
    "        targetPath = libDir + \"/\" + basename\n",
    "        \n",
    "        \n",
    "        payload = requests.get(url).content\n",
    "        open(zipFilePath, 'wb').write(payload)\n",
    "        ZipFile(zipFilePath).extractall(path=targetPath)\n",
    "    \n",
    "    return targetPath"
   ]
  },
  {
   "cell_type": "code",
   "execution_count": 5,
   "id": "0dc25b5b-f6c5-4427-b09f-ee6e892fa167",
   "metadata": {
    "tags": []
   },
   "outputs": [],
   "source": [
    "def setupSchXSLT():\n",
    "    # install schematron\n",
    "    schDLURL = \"https://github.com/schxslt/schxslt/releases/download/v1.9.5/schxslt-1.9.5-xslt-only.zip\"\n",
    "    schHome = downloadAndUnzip(schDLURL)\n",
    "    schCompiler = schHome + \"/schxslt-1.9.5/2.0/pipeline-for-svrl.xsl\"\n",
    "    if os.path.exists(schCompiler):\n",
    "        return schCompiler\n",
    "    else: \n",
    "        print(\"error: something went wrong, cannot locate file '\" + schCompiler + \"'\")"
   ]
  },
  {
   "cell_type": "code",
   "execution_count": 6,
   "id": "7d065cfe-c23a-4774-b87d-8034f8171386",
   "metadata": {
    "tags": []
   },
   "outputs": [],
   "source": [
    "def transform(s, xsl, o, parameters=[]):\n",
    "    proc.set_configuration_property(\"xi\", \"on\")\n",
    "    saxon = proc.new_xslt_processor()\n",
    "    saxon.set_source(file_name=os.path.abspath(s))\n",
    "    for i in parameters:\n",
    "        saxon.set_parameter(name=i, value=proc.make_string_value(parameters[i]))\n",
    "    saxon.compile_stylesheet(stylesheet_file=os.path.abspath(xsl))\n",
    "    saxon.set_output_file(os.path.abspath(o))\n",
    "    saxon.transform_to_string()\n",
    "    if saxon.exception_occurred():\n",
    "        #print(getmembers(saxon))\n",
    "        saxon.get_error_message(0)\n",
    "        for i in range(saxon.exception_count()-1):\n",
    "            print(saxon.get_error_message(0))\n",
    "        print(os.path.abspath(s)+\" - \"+os.path.abspath(xsl)+\" -> \"+os.path.abspath(o)+\" failed\")\n",
    "    return o"
   ]
  },
  {
   "cell_type": "code",
   "execution_count": 7,
   "id": "e873708a-9d7a-4af4-ac10-921f44a7296a",
   "metadata": {
    "tags": []
   },
   "outputs": [],
   "source": [
    "# extract a schematron document embedded in an rng schema\n",
    "def extractSchematron(rng):\n",
    "    rng2sch = setupRNG2Sch()\n",
    "    sch = tmpDir + \"/\" + os.path.basename(rng) + \".sch\"\n",
    "    if not os.path.exists(sch):\n",
    "        transform(rng, rng2sch, sch)\n",
    "    return sch"
   ]
  },
  {
   "cell_type": "code",
   "execution_count": 8,
   "id": "9a8368a4-e428-4805-85bc-9c10fc5e1b2d",
   "metadata": {
    "tags": []
   },
   "outputs": [],
   "source": [
    "# compile a schematron document to an XSLT stylesheet\n",
    "def compileSchematron(sch):\n",
    "    outputPath = tmpDir + \"/\" + os.path.basename(sch) + \".xsl\"\n",
    "    schCompiler = setupSchXSLT()\n",
    "    \n",
    "    transform(sch, schCompiler, outputPath)\n",
    "    if os.path.exists(outputPath):\n",
    "        return outputPath\n",
    "    else: \n",
    "        print(\"error: something went wrong, cannot locate file '\" + outputPath + \"'\")"
   ]
  },
  {
   "cell_type": "code",
   "execution_count": 9,
   "id": "6b825837-90fa-4323-b9f6-7b7c2bed5928",
   "metadata": {
    "tags": []
   },
   "outputs": [],
   "source": [
    "# prepare rng2sch styelsheet\n",
    "# returns path to xsl\n",
    "def setupRNG2Sch():\n",
    "    RNG2SchtrDL = \"https://raw.githubusercontent.com/Schematron/schematron/master/trunk/converters/code/ToSchematron/ExtractSchFromRNG.xsl\"\n",
    "    rng2sch = downloadAndStore(RNG2SchtrDL)\n",
    "    # tweak XSLT \n",
    "    with open(rng2sch) as inputfile:\n",
    "        lines = inputfile.read()\n",
    "    lines = lines.replace( 'http://www.ascc.net/xml/schematron','http://purl.oclc.org/dsdl/schematron/')\n",
    "    lines = lines.replace( '<sch:schema','<sch:schema queryBinding=\"xslt2\"')\n",
    "    \n",
    "    with open(rng2sch, 'w') as file:\n",
    "        file.writelines(lines)\n",
    "    newPath = libDir+\"/\"+os.path.basename(rng2sch)\n",
    "    os.replace(rng2sch, newPath)\n",
    "    if os.path.exists(newPath):\n",
    "        return newPath\n",
    "    else:\n",
    "        print(\"error: something went wrong, cannot locate file '\" + newPath + \"'\")"
   ]
  },
  {
   "cell_type": "code",
   "execution_count": 10,
   "id": "6e5e1179-7834-4ec4-ac91-76fa213b9f57",
   "metadata": {
    "tags": []
   },
   "outputs": [],
   "source": [
    "# validate document doc against schematron schema sch\n",
    "def schValidate(sch, path):\n",
    "    errs = []\n",
    "    out = tmpDir + \"/validationReports/ \" + os.path.basename(path)\n",
    "    xsl = compileSchematron(sch)\n",
    "    try:\n",
    "        transform(path, xsl, out)\n",
    "    except e:\n",
    "        valErrObj = {\n",
    "                \"message\": e.message, \n",
    "                \"line\": error.line, \n",
    "                \"source\": path, \n",
    "                \"location\": location,\n",
    "                \"stage\" : \"relaxng\", \n",
    "                \"exceptionType\": type(e).__name__\n",
    "            }\n",
    "        return valErrObj\n",
    "    report = etree.parse(out)\n",
    "    successfulReport = report.findall(\"{http://purl.oclc.org/dsdl/svrl}successful-report\")\n",
    "    failedAssert = report.findall(\"{http://purl.oclc.org/dsdl/svrl}failed-assert\")\n",
    "\n",
    "    for s in successfulReport + failedAssert:\n",
    "        location = s.attrib['location'].replace('Q{http://www.tei-c.org/ns/1.0}','').replace('Q{https://wibarab.acdh.oeaw.ac.at/langDesc}','')\n",
    "        msg = s.find(\"{http://purl.oclc.org/dsdl/svrl}text\").text\n",
    "        errObj = {\n",
    "            \"message\":  msg,\n",
    "            \"line\" : s.sourceline,\n",
    "            \"source\": path,\n",
    "            \"location\": location,\n",
    "            \"stage\": \"schematron\",\n",
    "            \"exceptionType\": str(s.tag).replace(\"{http://purl.oclc.org/dsdl/svrl}\",\"\")\n",
    "        }\n",
    "        errs.append(errObj)\n",
    "    return errs\n",
    "    "
   ]
  },
  {
   "cell_type": "code",
   "execution_count": 11,
   "id": "57fbaca5-626e-4efa-bc68-c5b9a9db1b9f",
   "metadata": {
    "tags": []
   },
   "outputs": [],
   "source": [
    "def validate(path, rngSchema):\n",
    "    validationErrors = []\n",
    "    sch = extractSchematron(rngSchema)\n",
    "    try:\n",
    "        doc = etree.parse(path)\n",
    "        revisionDesc = doc.xpath(\"/tei:TEI/tei:teiHeader/tei:revisionDesc\", namespaces={\"tei\":\"http://www.tei-c.org/ns/1.0\"})[0]\n",
    "        status = revisionDesc.attrib['status']\n",
    "        if status.lower() == \"draft\":\n",
    "            print(\"Ignoring draft \"+path)\n",
    "            return \n",
    "        # relaxng validation\n",
    "        relaxng_doc = etree.parse(rngSchema)\n",
    "        relaxng = etree.RelaxNG(relaxng_doc)\n",
    "        relaxng.assertValid(doc)\n",
    "        \n",
    "        # schematron validation\n",
    "        schErrs = schValidate(sch, path)\n",
    "        if lem(schErrs) >= 1:\n",
    "            validationErrors = validationErrors + schErrs\n",
    "    \n",
    "    except etree.DocumentInvalid as e:\n",
    "        for error in e.error_log:\n",
    "            location = \"n/a\" if error.path is None else error.path\n",
    "            valErrObj = {\n",
    "                \"message\": error.message, \n",
    "                \"line\": error.line, \n",
    "                \"source\": path, \n",
    "                \"location\": location,\n",
    "                \"stage\" : \"relaxng\", \n",
    "                \"exceptionType\": type(e).__name__\n",
    "            }\n",
    "            validationErrors.append(valErrObj)\n",
    "        schErrs = schValidate(sch, path)\n",
    "        if len(schErrs) >= 1:\n",
    "            validationErrors = validationErrors + schErrs\n",
    "        \n",
    "        \n",
    "    except etree.XMLSyntaxError as e:\n",
    "        valErrObj = {\n",
    "            \"message\": str(e), \n",
    "            \"line\": e.lineno,\n",
    "            \"source\": path, \n",
    "            \"location\": \"n/a\",\n",
    "            \"stage\" : \"parsing\", \n",
    "            \"exceptionType\": type(e).__name__\n",
    "    }\n",
    "        validationErrors.append(valErrObj)\n",
    "    return validationErrors"
   ]
  },
  {
   "cell_type": "code",
   "execution_count": 12,
   "id": "bb70d327-e12a-4c39-bc4f-c29722518595",
   "metadata": {
    "tags": []
   },
   "outputs": [],
   "source": [
    "validationErrors = []"
   ]
  },
  {
   "cell_type": "code",
   "execution_count": null,
   "id": "b6f8608d-2bad-4dbb-b234-d48d810b55f6",
   "metadata": {
    "scrolled": true,
    "tags": []
   },
   "outputs": [],
   "source": [
    "path=\"../../010_manannot/features/features_djim.xml\"\n",
    "\n",
    "validate(path, rngSchema)"
   ]
  },
  {
   "cell_type": "code",
   "execution_count": 14,
   "id": "21379b89-b400-470f-be6b-1a70f6fe324a",
   "metadata": {
    "tags": []
   },
   "outputs": [
    {
     "name": "stdout",
     "output_type": "stream",
     "text": [
      "validating ../../010_manannot/features/features_pron_sg_p2_c.xml\n",
      "1 found / 1 in total\n",
      "validating ../../010_manannot/features/feature_bound_pronoun_2ps_sg_f_after_vowel.xml\n",
      "Ignoring draft ../../010_manannot/features/feature_bound_pronoun_2ps_sg_f_after_vowel.xml\n",
      "validating ../../010_manannot/features/feature_bound_pronoun_2ps_pl_m.xml\n",
      "1 found / 2 in total\n",
      "validating ../../010_manannot/features/feature_bound_pronoun_2ps_sg_c_after_vowel.xml\n",
      "Ignoring draft ../../010_manannot/features/feature_bound_pronoun_2ps_sg_c_after_vowel.xml\n",
      "validating ../../010_manannot/features/features_pron_sg_p1_c.xml\n",
      "Ignoring draft ../../010_manannot/features/features_pron_sg_p1_c.xml\n",
      "validating ../../010_manannot/features/feature_bound_pronoun_3ps_sg_m_after_vowel.xml\n",
      "Ignoring draft ../../010_manannot/features/feature_bound_pronoun_3ps_sg_m_after_vowel.xml\n",
      "validating ../../010_manannot/features/features_pron_pl_p3_f.xml\n",
      "Ignoring draft ../../010_manannot/features/features_pron_pl_p3_f.xml\n",
      "validating ../../010_manannot/features/feature_bound_pronoun_3ps_sg_m_after_consonant.xml\n",
      "1 found / 3 in total\n",
      "validating ../../010_manannot/features/feature_bound_pronoun_2ps_sg_c_after_consonant.xml\n",
      "Ignoring draft ../../010_manannot/features/feature_bound_pronoun_2ps_sg_c_after_consonant.xml\n",
      "validating ../../010_manannot/features/features_q.xml\n",
      "/home/dschopper/data/WIBARAB/featuredb/010_manannot/features/features_q.xml - /home/dschopper/data/WIBARAB/featuredb/080_scripts_generic/validation/tmp/featuredb.rng.sch.xsl -> /home/dschopper/data/WIBARAB/featuredb/080_scripts_generic/validation/tmp/validationReports/ features_q.xml failed\n",
      "394 found / 397 in total\n",
      "validating ../../010_manannot/features/features_pron_pl_p1_c.xml\n",
      "1 found / 398 in total\n",
      "validating ../../010_manannot/features/features_pron_pl_p3_c.xml\n"
     ]
    },
    {
     "name": "stderr",
     "output_type": "stream",
     "text": [
      "Error evaluating (fn:resolve-uri(...)) in xsl:variable/@select on line 1345 column 208 of featuredb.rng.sch.xsl:\n",
      "  FORG0002: Base URI {{docPath}} is invalid: Illegal character in path at index 0: {docPath}\n",
      "  In template rule with match=\"element(Q{https://wibarab.acdh.oeaw.ac.at/langDesc}featureValueObservation)/attribute(Q{}resp)\" on line 1305 of featuredb.rng.sch.xsl\n",
      "     invoked by xsl:apply-templates at file:///home/dschopper/data/WIBARAB/featuredb/080_scripts_generic/validation/tmp/featuredb.rng.sch.xsl#83\n",
      "  In template rule with match=\"*\" on line 82 of featuredb.rng.sch.xsl\n",
      "     invoked by xsl:apply-templates at file:///home/dschopper/data/WIBARAB/featuredb/080_scripts_generic/validation/tmp/featuredb.rng.sch.xsl#84\n",
      "  In template rule with match=\"*\" on line 82 of featuredb.rng.sch.xsl\n",
      "     invoked by xsl:next-match at file:///home/dschopper/data/WIBARAB/featuredb/080_scripts_generic/validation/tmp/featuredb.rng.sch.xsl#1789\n",
      "  In template rule with match=\"element(Q{http://www.tei-c.org/ns/1.0}div)\" on line 1758 of featuredb.rng.sch.xsl\n",
      "     invoked by xsl:next-match at file:///home/dschopper/data/WIBARAB/featuredb/080_scripts_generic/validation/tmp/featuredb.rng.sch.xsl#1750\n",
      "  In template rule with match=\"element(Q{http://www.tei-c.org/ns/1.0}div)\" on line 1719 of featuredb.rng.sch.xsl\n",
      "     invoked by xsl:apply-templates at file:///home/dschopper/data/WIBARAB/featuredb/080_scripts_generic/validation/tmp/featuredb.rng.sch.xsl#84\n",
      "  In template rule with match=\"*\" on line 82 of featuredb.rng.sch.xsl\n",
      "     invoked by xsl:apply-templates at file:///home/dschopper/data/WIBARAB/featuredb/080_scripts_generic/validation/tmp/featuredb.rng.sch.xsl#84\n",
      "  In template rule with match=\"*\" on line 82 of featuredb.rng.sch.xsl\n",
      "     invoked by xsl:apply-templates at file:///home/dschopper/data/WIBARAB/featuredb/080_scripts_generic/validation/tmp/featuredb.rng.sch.xsl#84\n",
      "  In template rule with match=\"*\" on line 82 of featuredb.rng.sch.xsl\n",
      "     invoked by xsl:apply-templates at file:///home/dschopper/data/WIBARAB/featuredb/080_scripts_generic/validation/tmp/featuredb.rng.sch.xsl#80\n",
      "  In template rule with match=\"/\" on line 79 of featuredb.rng.sch.xsl\n",
      "     invoked by xsl:apply-templates at file:///home/dschopper/data/WIBARAB/featuredb/080_scripts_generic/validation/tmp/featuredb.rng.sch.xsl#388\n",
      "at template d62e13 on line 86 of featuredb.rng.sch.xsl:\n",
      "     invoked by xsl:call-template at file:///home/dschopper/data/WIBARAB/featuredb/080_scripts_generic/validation/tmp/featuredb.rng.sch.xsl#57\n",
      "  In template rule with match=\"pattern matching node()\" on line 26 of featuredb.rng.sch.xsl\n"
     ]
    },
    {
     "name": "stdout",
     "output_type": "stream",
     "text": [
      "Ignoring draft ../../010_manannot/features/features_pron_pl_p3_c.xml\n",
      "validating ../../010_manannot/features/features_pron_pl_p2_m.xml\n",
      "Ignoring draft ../../010_manannot/features/features_pron_pl_p2_m.xml\n",
      "validating ../../010_manannot/features/features_pron_pl_p2_f.xml\n",
      "Ignoring draft ../../010_manannot/features/features_pron_pl_p2_f.xml\n",
      "validating ../../010_manannot/features/features_pron_pl_p2c.xml\n",
      "Ignoring draft ../../010_manannot/features/features_pron_pl_p2c.xml\n",
      "validating ../../010_manannot/features/feature_bound_pronoun_1ps_pl.xml\n",
      "1 found / 399 in total\n",
      "validating ../../010_manannot/features/features_neg_existential_particle.xml\n",
      "1 found / 400 in total\n",
      "validating ../../010_manannot/features/features_pron_sg_p2_m.xml\n",
      "1 found / 401 in total\n",
      "validating ../../010_manannot/features/features_pron_sg_p3_m.xml\n",
      "1 found / 402 in total\n",
      "validating ../../010_manannot/features/feature_bound_pronoun_2ps_sg_f_after_consonants.xml\n",
      "1 found / 403 in total\n",
      "validating ../../010_manannot/features/features_pron_pl_p3_m.xml\n",
      "1 found / 404 in total\n",
      "validating ../../010_manannot/features/features_pron_sg_p2_f.xml\n",
      "Ignoring draft ../../010_manannot/features/features_pron_sg_p2_f.xml\n",
      "validating ../../010_manannot/features/feature_bound_pronoun_2ps_pl_c.xml\n",
      "1 found / 405 in total\n",
      "validating ../../010_manannot/features/features_pron_sg_p3_f.xml\n",
      "1 found / 406 in total\n",
      "validating ../../010_manannot/features/features_pron_sg_p3_c.xml\n",
      "Ignoring draft ../../010_manannot/features/features_pron_sg_p3_c.xml\n",
      "validating ../../010_manannot/features/feature_bound_pronoun_2ps_pl_f.xml\n",
      "1 found / 407 in total\n",
      "validating ../../010_manannot/features/feature_bound_pronoun_1ps_sg_after_consonant.xml\n",
      "Ignoring draft ../../010_manannot/features/feature_bound_pronoun_1ps_sg_after_consonant.xml\n",
      "validating ../../010_manannot/features/feature_bound_pronoun_3ps_pl_m.xml\n",
      "Ignoring draft ../../010_manannot/features/feature_bound_pronoun_3ps_pl_m.xml\n",
      "validating ../../010_manannot/features/feature_bound_pronoun_1ps_sg_after_vowel.xml\n",
      "1 found / 408 in total\n",
      "validating ../../010_manannot/features/features_interdentals.xml\n",
      "1 found / 409 in total\n",
      "validating ../../010_manannot/features/feature_bound_pronoun_3ps_pl_f.xml\n",
      "1 found / 410 in total\n",
      "validating ../../010_manannot/features/feature_bound_pronoun_3ps_pl_c.xml\n",
      "1 found / 411 in total\n",
      "validating ../../010_manannot/features/features_template.xml\n",
      "Ignoring draft ../../010_manannot/features/features_template.xml\n",
      "validating ../../010_manannot/features/features_djim.xml\n",
      "/home/dschopper/data/WIBARAB/featuredb/010_manannot/features/features_djim.xml - /home/dschopper/data/WIBARAB/featuredb/080_scripts_generic/validation/tmp/featuredb.rng.sch.xsl -> /home/dschopper/data/WIBARAB/featuredb/080_scripts_generic/validation/tmp/validationReports/ features_djim.xml failed\n",
      "3 found / 414 in total\n",
      "validating ../../010_manannot/features/features_ghayn.xml\n",
      "1 found / 415 in total\n",
      "validating ../../010_manannot/features/feature_bound_pronoun_2ps_sg_m_after_vowel.xml\n",
      "1 found / 416 in total\n",
      "validating ../../010_manannot/features/features_resyllabification.xml\n"
     ]
    },
    {
     "name": "stderr",
     "output_type": "stream",
     "text": [
      "Error evaluating (fn:resolve-uri(...)) in xsl:variable/@select on line 1345 column 208 of featuredb.rng.sch.xsl:\n",
      "  FORG0002: Base URI {{docPath}} is invalid: Illegal character in path at index 0: {docPath}\n",
      "  In template rule with match=\"element(Q{https://wibarab.acdh.oeaw.ac.at/langDesc}featureValueObservation)/attribute(Q{}resp)\" on line 1305 of featuredb.rng.sch.xsl\n",
      "     invoked by xsl:apply-templates at file:///home/dschopper/data/WIBARAB/featuredb/080_scripts_generic/validation/tmp/featuredb.rng.sch.xsl#83\n",
      "  In template rule with match=\"*\" on line 82 of featuredb.rng.sch.xsl\n",
      "     invoked by xsl:apply-templates at file:///home/dschopper/data/WIBARAB/featuredb/080_scripts_generic/validation/tmp/featuredb.rng.sch.xsl#84\n",
      "  In template rule with match=\"*\" on line 82 of featuredb.rng.sch.xsl\n",
      "     invoked by xsl:next-match at file:///home/dschopper/data/WIBARAB/featuredb/080_scripts_generic/validation/tmp/featuredb.rng.sch.xsl#1789\n",
      "  In template rule with match=\"element(Q{http://www.tei-c.org/ns/1.0}div)\" on line 1758 of featuredb.rng.sch.xsl\n",
      "     invoked by xsl:next-match at file:///home/dschopper/data/WIBARAB/featuredb/080_scripts_generic/validation/tmp/featuredb.rng.sch.xsl#1750\n",
      "  In template rule with match=\"element(Q{http://www.tei-c.org/ns/1.0}div)\" on line 1719 of featuredb.rng.sch.xsl\n",
      "     invoked by xsl:apply-templates at file:///home/dschopper/data/WIBARAB/featuredb/080_scripts_generic/validation/tmp/featuredb.rng.sch.xsl#84\n",
      "  In template rule with match=\"*\" on line 82 of featuredb.rng.sch.xsl\n",
      "     invoked by xsl:apply-templates at file:///home/dschopper/data/WIBARAB/featuredb/080_scripts_generic/validation/tmp/featuredb.rng.sch.xsl#84\n",
      "  In template rule with match=\"*\" on line 82 of featuredb.rng.sch.xsl\n",
      "     invoked by xsl:apply-templates at file:///home/dschopper/data/WIBARAB/featuredb/080_scripts_generic/validation/tmp/featuredb.rng.sch.xsl#84\n",
      "  In template rule with match=\"*\" on line 82 of featuredb.rng.sch.xsl\n",
      "     invoked by xsl:apply-templates at file:///home/dschopper/data/WIBARAB/featuredb/080_scripts_generic/validation/tmp/featuredb.rng.sch.xsl#80\n",
      "  In template rule with match=\"/\" on line 79 of featuredb.rng.sch.xsl\n",
      "     invoked by xsl:apply-templates at file:///home/dschopper/data/WIBARAB/featuredb/080_scripts_generic/validation/tmp/featuredb.rng.sch.xsl#388\n",
      "at template d112e13 on line 86 of featuredb.rng.sch.xsl:\n",
      "     invoked by xsl:call-template at file:///home/dschopper/data/WIBARAB/featuredb/080_scripts_generic/validation/tmp/featuredb.rng.sch.xsl#57\n",
      "  In template rule with match=\"pattern matching node()\" on line 26 of featuredb.rng.sch.xsl\n"
     ]
    },
    {
     "name": "stdout",
     "output_type": "stream",
     "text": [
      "Ignoring draft ../../010_manannot/features/features_resyllabification.xml\n",
      "validating ../../010_manannot/features/feature_bound_pronoun_3ps_sg_f.xml\n",
      "Ignoring draft ../../010_manannot/features/feature_bound_pronoun_3ps_sg_f.xml\n",
      "validating ../../010_manannot/features/features_existential_particle.xml\n",
      "1 found / 417 in total\n",
      "validating ../../010_manannot/features/features_k.xml\n"
     ]
    },
    {
     "name": "stderr",
     "output_type": "stream",
     "text": [
      "Error evaluating (fn:resolve-uri(...)) in xsl:variable/@select on line 1345 column 208 of featuredb.rng.sch.xsl:\n",
      "  FORG0002: Base URI {{docPath}} is invalid: Illegal character in path at index 0: {docPath}\n",
      "  In template rule with match=\"element(Q{https://wibarab.acdh.oeaw.ac.at/langDesc}featureValueObservation)/attribute(Q{}resp)\" on line 1305 of featuredb.rng.sch.xsl\n",
      "     invoked by xsl:apply-templates at file:///home/dschopper/data/WIBARAB/featuredb/080_scripts_generic/validation/tmp/featuredb.rng.sch.xsl#83\n",
      "  In template rule with match=\"*\" on line 82 of featuredb.rng.sch.xsl\n",
      "     invoked by xsl:apply-templates at file:///home/dschopper/data/WIBARAB/featuredb/080_scripts_generic/validation/tmp/featuredb.rng.sch.xsl#84\n",
      "  In template rule with match=\"*\" on line 82 of featuredb.rng.sch.xsl\n",
      "     invoked by xsl:next-match at file:///home/dschopper/data/WIBARAB/featuredb/080_scripts_generic/validation/tmp/featuredb.rng.sch.xsl#1789\n",
      "  In template rule with match=\"element(Q{http://www.tei-c.org/ns/1.0}div)\" on line 1758 of featuredb.rng.sch.xsl\n",
      "     invoked by xsl:next-match at file:///home/dschopper/data/WIBARAB/featuredb/080_scripts_generic/validation/tmp/featuredb.rng.sch.xsl#1750\n",
      "  In template rule with match=\"element(Q{http://www.tei-c.org/ns/1.0}div)\" on line 1719 of featuredb.rng.sch.xsl\n",
      "     invoked by xsl:apply-templates at file:///home/dschopper/data/WIBARAB/featuredb/080_scripts_generic/validation/tmp/featuredb.rng.sch.xsl#84\n",
      "  In template rule with match=\"*\" on line 82 of featuredb.rng.sch.xsl\n",
      "     invoked by xsl:apply-templates at file:///home/dschopper/data/WIBARAB/featuredb/080_scripts_generic/validation/tmp/featuredb.rng.sch.xsl#84\n",
      "  In template rule with match=\"*\" on line 82 of featuredb.rng.sch.xsl\n",
      "     invoked by xsl:apply-templates at file:///home/dschopper/data/WIBARAB/featuredb/080_scripts_generic/validation/tmp/featuredb.rng.sch.xsl#84\n",
      "  In template rule with match=\"*\" on line 82 of featuredb.rng.sch.xsl\n",
      "     invoked by xsl:apply-templates at file:///home/dschopper/data/WIBARAB/featuredb/080_scripts_generic/validation/tmp/featuredb.rng.sch.xsl#80\n",
      "  In template rule with match=\"/\" on line 79 of featuredb.rng.sch.xsl\n",
      "     invoked by xsl:apply-templates at file:///home/dschopper/data/WIBARAB/featuredb/080_scripts_generic/validation/tmp/featuredb.rng.sch.xsl#388\n",
      "at template d162e13 on line 86 of featuredb.rng.sch.xsl:\n",
      "     invoked by xsl:call-template at file:///home/dschopper/data/WIBARAB/featuredb/080_scripts_generic/validation/tmp/featuredb.rng.sch.xsl#57\n",
      "  In template rule with match=\"pattern matching node()\" on line 26 of featuredb.rng.sch.xsl\n"
     ]
    },
    {
     "name": "stdout",
     "output_type": "stream",
     "text": [
      "/home/dschopper/data/WIBARAB/featuredb/010_manannot/features/features_k.xml - /home/dschopper/data/WIBARAB/featuredb/080_scripts_generic/validation/tmp/featuredb.rng.sch.xsl -> /home/dschopper/data/WIBARAB/featuredb/080_scripts_generic/validation/tmp/validationReports/ features_k.xml failed\n",
      "336 found / 753 in total\n",
      "validating ../../010_manannot/features/feature_bound_pronoun_2ps_sg_m_after_consonant.xml\n",
      "Ignoring draft ../../010_manannot/features/feature_bound_pronoun_2ps_sg_m_after_consonant.xml\n",
      "validating ../../010_manannot/features/features_stressed_def_article.xml\n",
      "Ignoring draft ../../010_manannot/features/features_stressed_def_article.xml\n",
      "validating ../../010_manannot/features/feature_bound_pronoun_3ps_sg_c.xml\n",
      "1 found / 754 in total\n"
     ]
    }
   ],
   "source": [
    "for i in os.scandir(features):\n",
    "    if i.name.endswith('.xml') and i.is_file():\n",
    "        filename=os.path.basename(i)\n",
    "        filepath=features + \"/\" + filename\n",
    "        print(\"validating \" + filepath)\n",
    "        errs = validate(filepath, rngSchema)\n",
    "        if type(errs) is list:\n",
    "            validationErrors = validationErrors + errs\n",
    "            print(f\"{len(errs)} found / {len(validationErrors)} in total\")"
   ]
  },
  {
   "cell_type": "code",
   "execution_count": 15,
   "id": "8445e158-52d4-47b5-b1c4-8c3386b9c21a",
   "metadata": {
    "tags": []
   },
   "outputs": [
    {
     "data": {
      "text/html": [
       "<div>\n",
       "<style scoped>\n",
       "    .dataframe tbody tr th:only-of-type {\n",
       "        vertical-align: middle;\n",
       "    }\n",
       "\n",
       "    .dataframe tbody tr th {\n",
       "        vertical-align: top;\n",
       "    }\n",
       "\n",
       "    .dataframe thead th {\n",
       "        text-align: right;\n",
       "    }\n",
       "</style>\n",
       "<table border=\"1\" class=\"dataframe\">\n",
       "  <thead>\n",
       "    <tr style=\"text-align: right;\">\n",
       "      <th></th>\n",
       "      <th>message</th>\n",
       "      <th>line</th>\n",
       "      <th>source</th>\n",
       "      <th>location</th>\n",
       "      <th>stage</th>\n",
       "      <th>exceptionType</th>\n",
       "    </tr>\n",
       "  </thead>\n",
       "  <tbody>\n",
       "    <tr>\n",
       "      <th>0</th>\n",
       "      <td>ID fv_0182 already defined, line 209, column 8...</td>\n",
       "      <td>209</td>\n",
       "      <td>../../010_manannot/features/features_pron_sg_p...</td>\n",
       "      <td>n/a</td>\n",
       "      <td>parsing</td>\n",
       "      <td>XMLSyntaxError</td>\n",
       "    </tr>\n",
       "    <tr>\n",
       "      <th>1</th>\n",
       "      <td>ID fv_0183 already defined, line 1298, column ...</td>\n",
       "      <td>1298</td>\n",
       "      <td>../../010_manannot/features/feature_bound_pron...</td>\n",
       "      <td>n/a</td>\n",
       "      <td>parsing</td>\n",
       "      <td>XMLSyntaxError</td>\n",
       "    </tr>\n",
       "    <tr>\n",
       "      <th>2</th>\n",
       "      <td>ID fv_0183 already defined, line 1307, column ...</td>\n",
       "      <td>1307</td>\n",
       "      <td>../../010_manannot/features/feature_bound_pron...</td>\n",
       "      <td>n/a</td>\n",
       "      <td>parsing</td>\n",
       "      <td>XMLSyntaxError</td>\n",
       "    </tr>\n",
       "    <tr>\n",
       "      <th>3</th>\n",
       "      <td>Invalid attribute schemaLocation for element TEI</td>\n",
       "      <td>8</td>\n",
       "      <td>../../010_manannot/features/features_q.xml</td>\n",
       "      <td>/*</td>\n",
       "      <td>relaxng</td>\n",
       "      <td>DocumentInvalid</td>\n",
       "    </tr>\n",
       "    <tr>\n",
       "      <th>4</th>\n",
       "      <td>the target \"../../010_manannot/wibarab-dmp.xml...</td>\n",
       "      <td>117</td>\n",
       "      <td>../../010_manannot/features/features_q.xml</td>\n",
       "      <td>/TEI[1]/text[1]/body[1]/div[3]/featureValueObs...</td>\n",
       "      <td>schematron</td>\n",
       "      <td>failed-assert</td>\n",
       "    </tr>\n",
       "    <tr>\n",
       "      <th>...</th>\n",
       "      <td>...</td>\n",
       "      <td>...</td>\n",
       "      <td>...</td>\n",
       "      <td>...</td>\n",
       "      <td>...</td>\n",
       "      <td>...</td>\n",
       "    </tr>\n",
       "    <tr>\n",
       "      <th>749</th>\n",
       "      <td>the target \"../../010_manannot/wibarab-dmp.xml...</td>\n",
       "      <td>3013</td>\n",
       "      <td>../../010_manannot/features/features_k.xml</td>\n",
       "      <td>/TEI[1]/text[1]/body[1]/div[3]/featureValueObs...</td>\n",
       "      <td>schematron</td>\n",
       "      <td>failed-assert</td>\n",
       "    </tr>\n",
       "    <tr>\n",
       "      <th>750</th>\n",
       "      <td>the target \"../../010_manannot/wibarab-dmp.xml...</td>\n",
       "      <td>3022</td>\n",
       "      <td>../../010_manannot/features/features_k.xml</td>\n",
       "      <td>/TEI[1]/text[1]/body[1]/div[3]/featureValueObs...</td>\n",
       "      <td>schematron</td>\n",
       "      <td>failed-assert</td>\n",
       "    </tr>\n",
       "    <tr>\n",
       "      <th>751</th>\n",
       "      <td>the target \"../../010_manannot/wibarab-dmp.xml...</td>\n",
       "      <td>3031</td>\n",
       "      <td>../../010_manannot/features/features_k.xml</td>\n",
       "      <td>/TEI[1]/text[1]/body[1]/div[3]/featureValueObs...</td>\n",
       "      <td>schematron</td>\n",
       "      <td>failed-assert</td>\n",
       "    </tr>\n",
       "    <tr>\n",
       "      <th>752</th>\n",
       "      <td>the target \"../../010_manannot/wibarab-dmp.xml...</td>\n",
       "      <td>3040</td>\n",
       "      <td>../../010_manannot/features/features_k.xml</td>\n",
       "      <td>/TEI[1]/text[1]/body[1]/div[3]/featureValueObs...</td>\n",
       "      <td>schematron</td>\n",
       "      <td>failed-assert</td>\n",
       "    </tr>\n",
       "    <tr>\n",
       "      <th>753</th>\n",
       "      <td>ID bp_s3c_ already defined, line 63, column 38...</td>\n",
       "      <td>63</td>\n",
       "      <td>../../010_manannot/features/feature_bound_pron...</td>\n",
       "      <td>n/a</td>\n",
       "      <td>parsing</td>\n",
       "      <td>XMLSyntaxError</td>\n",
       "    </tr>\n",
       "  </tbody>\n",
       "</table>\n",
       "<p>754 rows × 6 columns</p>\n",
       "</div>"
      ],
      "text/plain": [
       "                                               message  line   \n",
       "0    ID fv_0182 already defined, line 209, column 8...   209  \\\n",
       "1    ID fv_0183 already defined, line 1298, column ...  1298   \n",
       "2    ID fv_0183 already defined, line 1307, column ...  1307   \n",
       "3     Invalid attribute schemaLocation for element TEI     8   \n",
       "4    the target \"../../010_manannot/wibarab-dmp.xml...   117   \n",
       "..                                                 ...   ...   \n",
       "749  the target \"../../010_manannot/wibarab-dmp.xml...  3013   \n",
       "750  the target \"../../010_manannot/wibarab-dmp.xml...  3022   \n",
       "751  the target \"../../010_manannot/wibarab-dmp.xml...  3031   \n",
       "752  the target \"../../010_manannot/wibarab-dmp.xml...  3040   \n",
       "753  ID bp_s3c_ already defined, line 63, column 38...    63   \n",
       "\n",
       "                                                source   \n",
       "0    ../../010_manannot/features/features_pron_sg_p...  \\\n",
       "1    ../../010_manannot/features/feature_bound_pron...   \n",
       "2    ../../010_manannot/features/feature_bound_pron...   \n",
       "3           ../../010_manannot/features/features_q.xml   \n",
       "4           ../../010_manannot/features/features_q.xml   \n",
       "..                                                 ...   \n",
       "749         ../../010_manannot/features/features_k.xml   \n",
       "750         ../../010_manannot/features/features_k.xml   \n",
       "751         ../../010_manannot/features/features_k.xml   \n",
       "752         ../../010_manannot/features/features_k.xml   \n",
       "753  ../../010_manannot/features/feature_bound_pron...   \n",
       "\n",
       "                                              location       stage   \n",
       "0                                                  n/a     parsing  \\\n",
       "1                                                  n/a     parsing   \n",
       "2                                                  n/a     parsing   \n",
       "3                                                   /*     relaxng   \n",
       "4    /TEI[1]/text[1]/body[1]/div[3]/featureValueObs...  schematron   \n",
       "..                                                 ...         ...   \n",
       "749  /TEI[1]/text[1]/body[1]/div[3]/featureValueObs...  schematron   \n",
       "750  /TEI[1]/text[1]/body[1]/div[3]/featureValueObs...  schematron   \n",
       "751  /TEI[1]/text[1]/body[1]/div[3]/featureValueObs...  schematron   \n",
       "752  /TEI[1]/text[1]/body[1]/div[3]/featureValueObs...  schematron   \n",
       "753                                                n/a     parsing   \n",
       "\n",
       "       exceptionType  \n",
       "0     XMLSyntaxError  \n",
       "1     XMLSyntaxError  \n",
       "2     XMLSyntaxError  \n",
       "3    DocumentInvalid  \n",
       "4      failed-assert  \n",
       "..               ...  \n",
       "749    failed-assert  \n",
       "750    failed-assert  \n",
       "751    failed-assert  \n",
       "752    failed-assert  \n",
       "753   XMLSyntaxError  \n",
       "\n",
       "[754 rows x 6 columns]"
      ]
     },
     "execution_count": 15,
     "metadata": {},
     "output_type": "execute_result"
    }
   ],
   "source": [
    "df = pd.DataFrame(data=validationErrors).T\n",
    "df = df.transpose()\n",
    "df"
   ]
  },
  {
   "cell_type": "code",
   "execution_count": 16,
   "id": "d6ab5e78-1c7d-4d6c-bc03-fecdb656a3bb",
   "metadata": {
    "tags": []
   },
   "outputs": [
    {
     "name": "stdout",
     "output_type": "stream",
     "text": [
      "cound 754 validation errors\n"
     ]
    }
   ],
   "source": [
    "print(f\"cound {len(validationErrors)} validation errors\")"
   ]
  },
  {
   "cell_type": "code",
   "execution_count": 17,
   "id": "c956070f-37ce-4061-9074-7488260bddb9",
   "metadata": {
    "tags": []
   },
   "outputs": [],
   "source": [
    "def make_clickable(source, line):\n",
    "    link = source.replace('../../','https://github.com/wibarab/featuredb/blob/main/')\n",
    "    return f'<a href=\"{link}#L{line}\">{source}</a>'\n",
    "\n",
    "df['link'] = df.apply(lambda x: make_clickable(x['source'], x['line']), axis=1)"
   ]
  },
  {
   "cell_type": "code",
   "execution_count": 18,
   "id": "4ee5918e-4853-4756-973a-288c39998e02",
   "metadata": {
    "tags": []
   },
   "outputs": [],
   "source": [
    "errorReport = \"tmp/validationReport.html\"\n",
    "with open(errorReport, 'w') as f:\n",
    "    f.write(df.to_html(render_links=True, escape=False))"
   ]
  },
  {
   "cell_type": "code",
   "execution_count": 19,
   "id": "b37d59d3-7e32-4eb6-b810-37508853e69a",
   "metadata": {
    "tags": []
   },
   "outputs": [
    {
     "data": {
      "text/plain": [
       "False"
      ]
     },
     "execution_count": 19,
     "metadata": {},
     "output_type": "execute_result"
    }
   ],
   "source": [
    "type(None) is list"
   ]
  },
  {
   "cell_type": "code",
   "execution_count": null,
   "id": "105a5a74-b0df-4bb3-818f-ed8bb0a9afc6",
   "metadata": {},
   "outputs": [],
   "source": []
  }
 ],
 "metadata": {
  "kernelspec": {
   "display_name": "Python 3 (ipykernel)",
   "language": "python",
   "name": "python3"
  },
  "language_info": {
   "codemirror_mode": {
    "name": "ipython",
    "version": 3
   },
   "file_extension": ".py",
   "mimetype": "text/x-python",
   "name": "python",
   "nbconvert_exporter": "python",
   "pygments_lexer": "ipython3",
   "version": "3.10.10"
  }
 },
 "nbformat": 4,
 "nbformat_minor": 5
}
