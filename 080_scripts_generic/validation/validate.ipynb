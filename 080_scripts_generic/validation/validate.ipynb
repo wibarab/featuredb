{
 "cells": [
  {
   "cell_type": "markdown",
   "id": "8fccc48a-93a3-408d-bd5d-509db359db17",
   "metadata": {
    "tags": []
   },
   "source": [
    "# WIBARAB FeatureDB Validation\n",
    "\n",
    "* Install & set up dependencies\n",
    "* extract schematron from RNG and transform to XSLT\n",
    "* run schematron-xslt on files"
   ]
  },
  {
   "cell_type": "code",
   "execution_count": 1,
   "id": "c65d4064-25b5-403a-974f-e0dcfca6a1bd",
   "metadata": {
    "tags": []
   },
   "outputs": [],
   "source": [
    "import io\n",
    "import os\n",
    "import requests\n",
    "import pathlib\n",
    "import re\n",
    "import sys\n",
    "import json\n",
    "import pandas as pd\n",
    "\n",
    "from pathlib import Path\n",
    "from urllib.parse import urlsplit\n",
    "from saxonpy import PySaxonProcessor, PyXdmValue\n",
    "from zipfile import ZipFile\n",
    "from lxml import isoschematron, etree"
   ]
  },
  {
   "cell_type": "code",
   "execution_count": 2,
   "id": "00a8d77c-292e-4c1f-9d34-5d139f3fb585",
   "metadata": {
    "tags": []
   },
   "outputs": [
    {
     "name": "stdout",
     "output_type": "stream",
     "text": [
      "Saxon/C 1.2.1 running with Saxon-HE 9.9.1.5C from Saxonica\n",
      "/home/dschopper/data/WIBARAB/featuredb/080_scripts_generic\n"
     ]
    }
   ],
   "source": [
    "tmpDir = \"tmp\"\n",
    "libDir = \"lib\"\n",
    "os.makedirs(tmpDir, exist_ok=True)\n",
    "\n",
    "\n",
    "# the root of the git repository\n",
    "dataHome = \"../..\"\n",
    "\n",
    "# rng schema\n",
    "rngSchema = dataHome + \"/803_RNG_Schematron/featuredb.rng\"\n",
    "# the path to the annotated TEI transcription files\n",
    "manannot = dataHome + \"/010_manannot\"\n",
    "# the path to the feature documents \n",
    "features = manannot + \"/features\"\n",
    "\n",
    "proc = PySaxonProcessor(license=False)\n",
    "# SaxonC 1.2.1 Python has many known bugs but isn't maintained anymore\n",
    "# Many of the documented API specs are not working\n",
    "print(proc.version)\n",
    "proc.set_cwd(os.path.dirname(os.path.abspath('')))\n",
    "print(proc.cwd)"
   ]
  },
  {
   "cell_type": "code",
   "execution_count": 3,
   "id": "8623f866-e5c8-4468-8c8c-52cd60c88b08",
   "metadata": {
    "tags": []
   },
   "outputs": [],
   "source": [
    "def downloadAndStore(url, force=False):   \n",
    "    #  filename of the file to be downloaded\n",
    "    fn = os.path.basename(url)\n",
    "    # fn w/o extension\n",
    "    basename = os.path.splitext(fn)[0]\n",
    "    # extension \n",
    "    ext = os.path.splitext(fn)[1]\n",
    "    dlFilePath = tmpDir + \"/\" + fn\n",
    "    if not os.path.exists(dlFilePath) and not force == True:\n",
    "        payload = requests.get(url).content\n",
    "        open(dlFilePath, 'wb').write(payload)\n",
    "    return dlFilePath"
   ]
  },
  {
   "cell_type": "code",
   "execution_count": 4,
   "id": "2e38bceb-17e4-4cc3-8a92-e1ced01bcf5c",
   "metadata": {
    "tags": []
   },
   "outputs": [],
   "source": [
    "def downloadAndUnzip(url):    \n",
    "    #  filename of the file to be downloaded\n",
    "    fn = os.path.basename(url)\n",
    "    # fn w/o extension\n",
    "    basename = os.path.splitext(fn)[0]\n",
    "    # extension \n",
    "    ext = os.path.splitext(fn)[1]\n",
    "    \n",
    "    if ext != \".zip\":\n",
    "        return \"not a zip archive\"\n",
    "    else:\n",
    "        zipFilePath = downloadAndStore(url)\n",
    "        # the path where the content should be extracted to\n",
    "        targetPath = libDir + \"/\" + basename\n",
    "        \n",
    "        \n",
    "        payload = requests.get(url).content\n",
    "        open(zipFilePath, 'wb').write(payload)\n",
    "        ZipFile(zipFilePath).extractall(path=targetPath)\n",
    "    \n",
    "    return targetPath"
   ]
  },
  {
   "cell_type": "code",
   "execution_count": 5,
   "id": "0dc25b5b-f6c5-4427-b09f-ee6e892fa167",
   "metadata": {
    "tags": []
   },
   "outputs": [],
   "source": [
    "def setupSchXSLT():\n",
    "    # install schematron\n",
    "    schDLURL = \"https://github.com/schxslt/schxslt/releases/download/v1.9.5/schxslt-1.9.5-xslt-only.zip\"\n",
    "    schHome = downloadAndUnzip(schDLURL)\n",
    "    schCompiler = schHome + \"/schxslt-1.9.5/2.0/compile-for-svrl.xsl\"\n",
    "    if os.path.exists(schCompiler):\n",
    "        return schCompiler\n",
    "    else: \n",
    "        print(\"error: something went wrong, cannot locate file '\" + schCompiler + \"'\")"
   ]
  },
  {
   "cell_type": "code",
   "execution_count": 6,
   "id": "7d065cfe-c23a-4774-b87d-8034f8171386",
   "metadata": {
    "tags": []
   },
   "outputs": [],
   "source": [
    "def transform(s, xsl, o, parameters=[]):\n",
    "    proc.set_configuration_property(\"xi\", \"on\")\n",
    "    saxon = proc.new_xslt_processor()\n",
    "    saxon.set_source(file_name=os.path.abspath(s))\n",
    "    for i in parameters:\n",
    "        saxon.set_parameter(name=i, value=proc.make_string_value(parameters[i]))\n",
    "    saxon.compile_stylesheet(stylesheet_file=os.path.abspath(xsl))\n",
    "    saxon.set_output_file(os.path.abspath(o))\n",
    "    saxon.transform_to_string()\n",
    "    if saxon.exception_occurred():\n",
    "        #print(getmembers(saxon))\n",
    "        saxon.get_error_message(0)\n",
    "        for i in range(saxon.exception_count()-1):\n",
    "            print(saxon.get_error_message(0))\n",
    "        print(os.path.abspath(s)+\" - \"+os.path.abspath(xsl)+\" -> \"+os.path.abspath(o)+\" failed\")\n",
    "    return o"
   ]
  },
  {
   "cell_type": "code",
   "execution_count": 14,
   "id": "e873708a-9d7a-4af4-ac10-921f44a7296a",
   "metadata": {
    "tags": []
   },
   "outputs": [],
   "source": [
    "# extract a schematron document embedded in an rng schema\n",
    "def extractSchematron(rng):\n",
    "    print(FORCE_SCHEMATRON_EXTRACTION)\n",
    "    rng2sch = setupRNG2Sch()\n",
    "    sch = tmpDir + \"/\" + os.path.basename(rng) + \".sch\"\n",
    "    if not os.path.exists(sch):\n",
    "        transform(rng, rng2sch, sch)\n",
    "    return sch"
   ]
  },
  {
   "cell_type": "code",
   "execution_count": 8,
   "id": "9a8368a4-e428-4805-85bc-9c10fc5e1b2d",
   "metadata": {
    "tags": []
   },
   "outputs": [],
   "source": [
    "# compile a schematron document to an XSLT stylesheet\n",
    "def compileSchematron(sch):\n",
    "    outputPath = tmpDir + \"/\" + os.path.basename(sch) + \".xsl\"\n",
    "    schCompiler = setupSchXSLT()\n",
    "    \n",
    "    transform(sch, schCompiler, outputPath)\n",
    "    if os.path.exists(outputPath):\n",
    "        return outputPath\n",
    "    else: \n",
    "        print(\"error: something went wrong, cannot locate file '\" + outputPath + \"'\")"
   ]
  },
  {
   "cell_type": "code",
   "execution_count": 9,
   "id": "6b825837-90fa-4323-b9f6-7b7c2bed5928",
   "metadata": {
    "tags": []
   },
   "outputs": [],
   "source": [
    "# prepare rng2sch styelsheet\n",
    "# returns path to xsl\n",
    "def setupRNG2Sch():\n",
    "    RNG2SchtrDL = \"https://raw.githubusercontent.com/Schematron/schematron/master/trunk/converters/code/ToSchematron/ExtractSchFromRNG.xsl\"\n",
    "    rng2sch = downloadAndStore(RNG2SchtrDL)\n",
    "    # tweak XSLT \n",
    "    with open(rng2sch) as inputfile:\n",
    "        lines = inputfile.read()\n",
    "    lines = lines.replace( 'http://www.ascc.net/xml/schematron','http://purl.oclc.org/dsdl/schematron/')\n",
    "    lines = lines.replace( '<sch:schema','<sch:schema queryBinding=\"xslt2\"')\n",
    "    \n",
    "    with open(rng2sch, 'w') as file:\n",
    "        file.writelines(lines)\n",
    "    newPath = libDir+\"/\"+os.path.basename(rng2sch)\n",
    "    os.replace(rng2sch, newPath)\n",
    "    if os.path.exists(newPath):\n",
    "        return newPath\n",
    "    else:\n",
    "        print(\"error: something went wrong, cannot locate file '\" + newPath + \"'\")"
   ]
  },
  {
   "cell_type": "code",
   "execution_count": 10,
   "id": "6e5e1179-7834-4ec4-ac91-76fa213b9f57",
   "metadata": {
    "tags": []
   },
   "outputs": [],
   "source": [
    "# validate document doc against schematron schema sch\n",
    "def schValidate(sch, path):\n",
    "    errs = []\n",
    "    out = tmpDir + \"/validationReports/ \" + os.path.basename(path)\n",
    "    xsl = compileSchematron(sch)\n",
    "    transform(path, xsl, out)\n",
    "    report = etree.parse(out)\n",
    "    successfulReport = report.findall(\"{http://purl.oclc.org/dsdl/svrl}successful-report\")\n",
    "    failedAssert = report.findall(\"{http://purl.oclc.org/dsdl/svrl}failed-assert\")\n",
    "\n",
    "    for s in successfulReport + failedAssert:\n",
    "        location = s.attrib['location'].replace('Q{http://www.tei-c.org/ns/1.0}','').replace('Q{https://wibarab.acdh.oeaw.ac.at/langDesc}','')\n",
    "        msg = s.find(\"{http://purl.oclc.org/dsdl/svrl}text\").text\n",
    "        errObj = {\n",
    "            \"message\":  msg,\n",
    "            \"line\" : s.sourceline,\n",
    "            \"source\": path,\n",
    "            \"location\": location,\n",
    "            \"stage\": \"schematron\",\n",
    "            \"exceptionType\": str(s.tag).replace(\"{http://purl.oclc.org/dsdl/svrl}\",\"\")\n",
    "        }\n",
    "        errs.append(errObj)\n",
    "    return errs\n",
    "    "
   ]
  },
  {
   "cell_type": "code",
   "execution_count": 11,
   "id": "57fbaca5-626e-4efa-bc68-c5b9a9db1b9f",
   "metadata": {
    "tags": []
   },
   "outputs": [],
   "source": [
    "def validate(path, rngSchema):\n",
    "    validationErrors = []\n",
    "    sch = extractSchematron(rngSchema)\n",
    "    try:\n",
    "        doc = etree.parse(path)\n",
    "        revisionDesc = doc.xpath(\"/tei:TEI/tei:teiHeader/tei:revisionDesc\", namespaces={\"tei\":\"http://www.tei-c.org/ns/1.0\"})[0]\n",
    "        status = revisionDesc.attrib['status']\n",
    "        if status.lower() == \"draft\":\n",
    "            print(\"Ignoring draft \"+path)\n",
    "            return \n",
    "        # relaxng validation\n",
    "        relaxng_doc = etree.parse(rngSchema)\n",
    "        relaxng = etree.RelaxNG(relaxng_doc)\n",
    "        relaxng.assertValid(doc)\n",
    "        \n",
    "        # schematron validation\n",
    "        schErrs = schValidate(sch, path)\n",
    "        if lem(schErrs) >= 1:\n",
    "            validationErrors = validationErrors + schErrs\n",
    "    \n",
    "    except etree.DocumentInvalid as e:\n",
    "        for error in e.error_log:\n",
    "            location = \"n/a\" if error.path is None else error.path\n",
    "            valErrObj = {\n",
    "                \"message\": error.message, \n",
    "                \"line\": error.line, \n",
    "                \"source\": path, \n",
    "                \"location\": location,\n",
    "                \"stage\" : \"relaxng\", \n",
    "                \"exceptionType\": type(e).__name__\n",
    "            }\n",
    "            validationErrors.append(valErrObj)\n",
    "        schErrs = schValidate(sch, path)\n",
    "        if len(schErrs) >= 1:\n",
    "            validationErrors = validationErrors + schErrs\n",
    "        \n",
    "        \n",
    "    except etree.XMLSyntaxError as e:\n",
    "        valErrObj = {\n",
    "            \"message\": str(e), \n",
    "            \"line\": e.lineno,\n",
    "            \"source\": path, \n",
    "            \"location\": \"n/a\",\n",
    "            \"stage\" : \"parsing\", \n",
    "            \"exceptionType\": type(e).__name__\n",
    "    }\n",
    "        validationErrors.append(valErrObj)\n",
    "    return validationErrors"
   ]
  },
  {
   "cell_type": "code",
   "execution_count": 12,
   "id": "bb70d327-e12a-4c39-bc4f-c29722518595",
   "metadata": {
    "tags": []
   },
   "outputs": [],
   "source": [
    "validationErrors = []"
   ]
  },
  {
   "cell_type": "code",
   "execution_count": 13,
   "id": "21379b89-b400-470f-be6b-1a70f6fe324a",
   "metadata": {
    "tags": []
   },
   "outputs": [
    {
     "name": "stdout",
     "output_type": "stream",
     "text": [
      "validating ../../010_manannot/features/features_pron_sg_p2_c.xml\n"
     ]
    },
    {
     "ename": "NameError",
     "evalue": "name 'FORCE_SCHEMATRON_EXTRACTION' is not defined",
     "output_type": "error",
     "traceback": [
      "\u001b[0;31m---------------------------------------------------------------------------\u001b[0m",
      "\u001b[0;31mNameError\u001b[0m                                 Traceback (most recent call last)",
      "Cell \u001b[0;32mIn[13], line 6\u001b[0m\n\u001b[1;32m      4\u001b[0m filepath\u001b[38;5;241m=\u001b[39mfeatures \u001b[38;5;241m+\u001b[39m \u001b[38;5;124m\"\u001b[39m\u001b[38;5;124m/\u001b[39m\u001b[38;5;124m\"\u001b[39m \u001b[38;5;241m+\u001b[39m filename\n\u001b[1;32m      5\u001b[0m \u001b[38;5;28mprint\u001b[39m(\u001b[38;5;124m\"\u001b[39m\u001b[38;5;124mvalidating \u001b[39m\u001b[38;5;124m\"\u001b[39m \u001b[38;5;241m+\u001b[39m filepath)\n\u001b[0;32m----> 6\u001b[0m errs \u001b[38;5;241m=\u001b[39m \u001b[43mvalidate\u001b[49m\u001b[43m(\u001b[49m\u001b[43mfilepath\u001b[49m\u001b[43m,\u001b[49m\u001b[43m \u001b[49m\u001b[43mrngSchema\u001b[49m\u001b[43m)\u001b[49m\n\u001b[1;32m      7\u001b[0m \u001b[38;5;28;01mif\u001b[39;00m \u001b[38;5;28mtype\u001b[39m(errs) \u001b[38;5;129;01mis\u001b[39;00m \u001b[38;5;28mlist\u001b[39m:\n\u001b[1;32m      8\u001b[0m     validationErrors \u001b[38;5;241m=\u001b[39m validationErrors \u001b[38;5;241m+\u001b[39m errs\n",
      "Cell \u001b[0;32mIn[11], line 3\u001b[0m, in \u001b[0;36mvalidate\u001b[0;34m(path, rngSchema)\u001b[0m\n\u001b[1;32m      1\u001b[0m \u001b[38;5;28;01mdef\u001b[39;00m \u001b[38;5;21mvalidate\u001b[39m(path, rngSchema):\n\u001b[1;32m      2\u001b[0m     validationErrors \u001b[38;5;241m=\u001b[39m []\n\u001b[0;32m----> 3\u001b[0m     sch \u001b[38;5;241m=\u001b[39m \u001b[43mextractSchematron\u001b[49m\u001b[43m(\u001b[49m\u001b[43mrngSchema\u001b[49m\u001b[43m)\u001b[49m\n\u001b[1;32m      4\u001b[0m     \u001b[38;5;28;01mtry\u001b[39;00m:\n\u001b[1;32m      5\u001b[0m         doc \u001b[38;5;241m=\u001b[39m etree\u001b[38;5;241m.\u001b[39mparse(path)\n",
      "Cell \u001b[0;32mIn[7], line 3\u001b[0m, in \u001b[0;36mextractSchematron\u001b[0;34m(rng)\u001b[0m\n\u001b[1;32m      2\u001b[0m \u001b[38;5;28;01mdef\u001b[39;00m \u001b[38;5;21mextractSchematron\u001b[39m(rng):\n\u001b[0;32m----> 3\u001b[0m     \u001b[38;5;28mprint\u001b[39m(\u001b[43mFORCE_SCHEMATRON_EXTRACTION\u001b[49m)\n\u001b[1;32m      4\u001b[0m     rng2sch \u001b[38;5;241m=\u001b[39m setupRNG2Sch()\n\u001b[1;32m      5\u001b[0m     sch \u001b[38;5;241m=\u001b[39m tmpDir \u001b[38;5;241m+\u001b[39m \u001b[38;5;124m\"\u001b[39m\u001b[38;5;124m/\u001b[39m\u001b[38;5;124m\"\u001b[39m \u001b[38;5;241m+\u001b[39m os\u001b[38;5;241m.\u001b[39mpath\u001b[38;5;241m.\u001b[39mbasename(rng) \u001b[38;5;241m+\u001b[39m \u001b[38;5;124m\"\u001b[39m\u001b[38;5;124m.sch\u001b[39m\u001b[38;5;124m\"\u001b[39m\n",
      "\u001b[0;31mNameError\u001b[0m: name 'FORCE_SCHEMATRON_EXTRACTION' is not defined"
     ]
    }
   ],
   "source": [
    "for i in os.scandir(features):\n",
    "    if i.name.endswith('.xml') and i.is_file():\n",
    "        filename=os.path.basename(i)\n",
    "        filepath=features + \"/\" + filename\n",
    "        print(\"validating \" + filepath)\n",
    "        errs = validate(filepath, rngSchema)\n",
    "        if type(errs) is list:\n",
    "            validationErrors = validationErrors + errs\n",
    "            print(f\"{len(errs)} found / {len(validationErrors)} in total\")"
   ]
  },
  {
   "cell_type": "code",
   "execution_count": null,
   "id": "8445e158-52d4-47b5-b1c4-8c3386b9c21a",
   "metadata": {
    "tags": []
   },
   "outputs": [],
   "source": [
    "df = pd.DataFrame(data=validationErrors).T\n",
    "df = df.transpose()\n",
    "df"
   ]
  },
  {
   "cell_type": "code",
   "execution_count": null,
   "id": "d6ab5e78-1c7d-4d6c-bc03-fecdb656a3bb",
   "metadata": {
    "tags": []
   },
   "outputs": [],
   "source": [
    "print(f\"cound {len(validationErrors)} validation errors\")"
   ]
  },
  {
   "cell_type": "code",
   "execution_count": null,
   "id": "c956070f-37ce-4061-9074-7488260bddb9",
   "metadata": {
    "tags": []
   },
   "outputs": [],
   "source": [
    "def make_clickable(source, line):\n",
    "    link = source.replace('../../','https://github.com/wibarab/featuredb/blob/main/')\n",
    "    return f'<a href=\"{link}#L{line}\">{source}</a>'\n",
    "\n",
    "df['link'] = df.apply(lambda x: make_clickable(x['source'], x['line']), axis=1)"
   ]
  },
  {
   "cell_type": "code",
   "execution_count": null,
   "id": "4ee5918e-4853-4756-973a-288c39998e02",
   "metadata": {
    "tags": []
   },
   "outputs": [],
   "source": [
    "errorReport = \"tmp/validationReport.html\"\n",
    "with open(errorReport, 'w') as f:\n",
    "    f.write(df.to_html(render_links=True, escape=False))"
   ]
  },
  {
   "cell_type": "code",
   "execution_count": null,
   "id": "b37d59d3-7e32-4eb6-b810-37508853e69a",
   "metadata": {
    "tags": []
   },
   "outputs": [],
   "source": [
    "type(None) is list"
   ]
  },
  {
   "cell_type": "code",
   "execution_count": null,
   "id": "105a5a74-b0df-4bb3-818f-ed8bb0a9afc6",
   "metadata": {},
   "outputs": [],
   "source": []
  }
 ],
 "metadata": {
  "kernelspec": {
   "display_name": "Python 3 (ipykernel)",
   "language": "python",
   "name": "python3"
  },
  "language_info": {
   "codemirror_mode": {
    "name": "ipython",
    "version": 3
   },
   "file_extension": ".py",
   "mimetype": "text/x-python",
   "name": "python",
   "nbconvert_exporter": "python",
   "pygments_lexer": "ipython3",
   "version": "3.10.10"
  }
 },
 "nbformat": 4,
 "nbformat_minor": 5
}
