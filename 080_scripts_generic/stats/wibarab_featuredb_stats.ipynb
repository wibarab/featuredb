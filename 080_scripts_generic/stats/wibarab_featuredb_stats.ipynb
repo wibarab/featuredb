{
 "cells": [
  {
   "cell_type": "markdown",
   "id": "8fccc48a-93a3-408d-bd5d-509db359db17",
   "metadata": {
    "tags": []
   },
   "source": [
    "# WIBARAB FeatureDB Statistics"
   ]
  },
  {
   "cell_type": "code",
   "execution_count": 1,
   "id": "c65d4064-25b5-403a-974f-e0dcfca6a1bd",
   "metadata": {
    "tags": []
   },
   "outputs": [],
   "source": [
    "import io\n",
    "import os\n",
    "import requests\n",
    "import pathlib\n",
    "import re\n",
    "import sys\n",
    "import json\n",
    "import pandas as pd\n",
    "import linecache as lc\n",
    "\n",
    "from pathlib import Path\n",
    "from urllib.parse import urlsplit\n",
    "import saxonche\n",
    "from zipfile import ZipFile\n",
    "from lxml import isoschematron, etree"
   ]
  },
  {
   "cell_type": "code",
   "execution_count": 2,
   "id": "00a8d77c-292e-4c1f-9d34-5d139f3fb585",
   "metadata": {
    "tags": []
   },
   "outputs": [
    {
     "name": "stdout",
     "output_type": "stream",
     "text": [
      "SaxonC-HE 12.3 from Saxonica\n",
      "/home/dschopper/data/WIBARAB/featuredb/080_scripts_generic\n"
     ]
    }
   ],
   "source": [
    "tmpDir = \"tmp\"\n",
    "libDir = \"lib\"\n",
    "outputPath = tmpDir\n",
    "os.makedirs(tmpDir, exist_ok=True)\n",
    "os.makedirs(libDir, exist_ok=True)\n",
    "os.makedirs(outputPath, exist_ok=True)\n",
    "nss = {\"tei\":\"http://www.tei-c.org/ns/1.0\", \"wib\":\"https://wibarab.acdh.oeaw.ac.at/langDesc\"}\n",
    "# the root of the git repository\n",
    "dataHome = \"../..\"\n",
    "\n",
    "# the path to the annotated TEI transcription files\n",
    "manannot = dataHome + \"/010_manannot\"\n",
    "# the path to the feature documents \n",
    "features = manannot + \"/features\"\n",
    "\n",
    "\n",
    "with saxonche.PySaxonProcessor(license=False) as proc:\n",
    "# SaxonC 1.2.1 Python has many known bugs but isn't maintained anymore\n",
    "# Many of the documented API specs are not working\n",
    "    print(proc.version)\n",
    "    proc.set_cwd(os.path.dirname(os.path.abspath('')))\n",
    "    print(proc.cwd)"
   ]
  },
  {
   "cell_type": "code",
   "execution_count": 3,
   "id": "7d065cfe-c23a-4774-b87d-8034f8171386",
   "metadata": {
    "tags": []
   },
   "outputs": [],
   "source": [
    "def transform(s, xsl, o, parameters=[]):\n",
    "    # processor keeps files open on Windows and in doing so prevents moving or copying them\n",
    "    with saxonche.PySaxonProcessor(license=False) as proc:\n",
    "        proc.set_configuration_property(\"xi\", \"on\")\n",
    "        saxon = proc.new_xslt30_processor()\n",
    "        for i in parameters:\n",
    "            saxon.set_parameter(name=i, value=proc.make_string_value(parameters[i]))\n",
    "        exec = saxon.compile_stylesheet(stylesheet_file=os.path.abspath(xsl))\n",
    "        exec.apply_templates_returning_file(source_file=os.path.abspath(s), output_file=os.path.abspath(o))\n",
    "        if exec.exception_occurred:\n",
    "            exec.get_error_message\n",
    "            #for i in range(saxon.exception_count()-1):\n",
    "            print(saxon.get_error_message())\n",
    "            print(os.path.abspath(s)+\" - \"+os.path.abspath(xsl)+\" -> \"+os.path.abspath(o)+\" failed\")\n",
    "        if os.path.exists(os.path.abspath(o)):\n",
    "            return o\n",
    "        else: \n",
    "            print(\"there was an error transforming \"+s+\" with stylesheet \"+xsl)"
   ]
  },
  {
   "cell_type": "code",
   "execution_count": 4,
   "id": "290bcfce-aa20-4bd0-bb57-bcf37c3b8699",
   "metadata": {},
   "outputs": [],
   "source": [
    "def docStatus(doc):\n",
    "    \"\"\"returns the status of the document at path; if the document can't be parsed, it returns a dict with the error\"\"\"\n",
    "    revisionDesc = doc.xpath(\"/tei:TEI/tei:teiHeader/tei:revisionDesc\", namespaces=nss)[0]\n",
    "    status = revisionDesc.attrib['status']\n",
    "    lastUpdate = revisionDesc.xpath(\"//tei:change\", namespaces=nss)[0].get('when')\n",
    "    return {\n",
    "        \"status\" : status,\n",
    "        \"lastUpdate\": lastUpdate\n",
    "    }"
   ]
  },
  {
   "cell_type": "code",
   "execution_count": 5,
   "id": "5457b88b-59d1-42a3-82b5-e0c5fbcad46e",
   "metadata": {},
   "outputs": [],
   "source": [
    "def getFVOInfo(fvo):\n",
    "    fvoID = fvo.get(\"{http://www.w3.org/XML/1998/namespace}id\")\n",
    "    fvoResp = fvo.get('resp')\n",
    "    fvoStatus = fvo.get('status')\n",
    "    fvRef = fvo.xpath(\"tei:name[@type = 'featureValue']/@ref\", namespaces=nss)[0]\n",
    "    return {\n",
    "        \"id\": fvoID,\n",
    "        \"fvoResp\" : fvoResp,\n",
    "        \"status\": fvoStatus,\n",
    "        \"featureValue\": fvRef,\n",
    "        \"sourceline\": fvo.sourceline\n",
    "    }"
   ]
  },
  {
   "cell_type": "code",
   "execution_count": 6,
   "id": "e38a3be0-ca56-47b4-9166-8f0a0bcd64a8",
   "metadata": {},
   "outputs": [],
   "source": [
    "def getInfoAboutFeatureDoc(path):\n",
    "    filename = os.path.basename(path)\n",
    "    try:\n",
    "        doc = etree.parse(path)\n",
    "        revisionDesc = doc.xpath(\"/tei:TEI/tei:teiHeader/tei:revisionDesc\", namespaces=nss)[0]\n",
    "        status = docStatus(doc)\n",
    "\n",
    "        fvos_unsorted = []\n",
    "        for f in doc.xpath(\"//wib:featureValueObservation\", namespaces=nss): \n",
    "            fvoInfo = getFVOInfo(f)\n",
    "            fileInfo = {\"path\" : path}\n",
    "            fvo = { **fvoInfo, **fileInfo }\n",
    "            fvos_unsorted.append( fvo )\n",
    "        fvos = sorted(fvos_unsorted, key=lambda d: d['status']) \n",
    "        \n",
    "        docInfo = {\n",
    "            \"path\": path,\n",
    "            \"filename\": filename,\n",
    "            \"number_of_fvos\" : len(fvos),\n",
    "            \"fvos\": fvos\n",
    "        }\n",
    "        return { **docInfo, **status }\n",
    "        \n",
    "    except etree.XMLSyntaxError as e:\n",
    "        valErrObj = {\n",
    "            \"status\" : \"error\",\n",
    "             \"filename\": filename,\n",
    "            \"path\": path\n",
    "         #   \"number_of_fvos\": \n",
    "        }\n",
    "        return valErrObj"
   ]
  },
  {
   "cell_type": "code",
   "execution_count": 7,
   "id": "bb70d327-e12a-4c39-bc4f-c29722518595",
   "metadata": {
    "tags": []
   },
   "outputs": [],
   "source": [
    "featureDocs = []"
   ]
  },
  {
   "cell_type": "code",
   "execution_count": 8,
   "id": "21379b89-b400-470f-be6b-1a70f6fe324a",
   "metadata": {
    "scrolled": true,
    "tags": []
   },
   "outputs": [],
   "source": [
    "for i in os.scandir(features):\n",
    "    if i.name.endswith('.xml') and i.is_file():\n",
    "        filename = os.path.basename(i)\n",
    "        filepath = features + \"/\" + filename\n",
    "        info = getInfoAboutFeatureDoc(filepath)\n",
    "        featureDocs.append(info)"
   ]
  },
  {
   "cell_type": "code",
   "execution_count": 9,
   "id": "c956070f-37ce-4061-9074-7488260bddb9",
   "metadata": {
    "tags": []
   },
   "outputs": [],
   "source": [
    "def make_clickable(source, line=None, aText=None):\n",
    "    link = source.replace('../../','https://github.com/wibarab/featuredb/blob/main/')\n",
    "    if line:\n",
    "        return f'<a href=\"{link}#L{line}\">{aText if aText is not None else source}</a>'\n",
    "    else:\n",
    "        return f'<a href=\"{link}\">{aText if aText is not None else source}</a>'"
   ]
  },
  {
   "cell_type": "code",
   "execution_count": 10,
   "id": "058a07c8-14b0-4c7b-902c-a536daa79d98",
   "metadata": {},
   "outputs": [],
   "source": [
    "def make_ul(fvos):\n",
    "    out = \"<ul>\"\n",
    "    for i in fvos:\n",
    "        out = out +\"<li>\" + i['status'] + \" - \" + i['fvoResp'] + \" - \" + i['featureValue']+ \" - \" + make_clickable(i['path'], line=i['sourceline'], aText = i['id']) + \" </li>\"\n",
    "    out = out + \"</ul>\"\n",
    "    return out"
   ]
  },
  {
   "cell_type": "code",
   "execution_count": 11,
   "id": "eccb5221-dc54-428c-a96c-568d3621ffe0",
   "metadata": {},
   "outputs": [],
   "source": [
    "paths = {\n",
    "    \"fvoDocsOverview\" :  outputPath + \"/statsReport.html\",\n",
    "    \"fvos_overviewPerMemberAndStatus\": outputPath + \"/fvoStatusByMember.html\",\n",
    "    \"fvos_openPerMember\": lambda memberID: outputPath + \"/fvoTodo_\"+memberID+\".html\",\n",
    "    \"fvoDocReport\": lambda fvoDocFilename: outputPath + \"/\" + fvoDocFilename.replace('.xml','_fvoReport.html')\n",
    "}\n"
   ]
  },
  {
   "cell_type": "markdown",
   "id": "0328399e-a87d-4b2d-a69d-631c44f819a9",
   "metadata": {},
   "source": [
    "## Create a summary report for all fvo_docs"
   ]
  },
  {
   "cell_type": "code",
   "execution_count": 13,
   "id": "86d83288-1c77-4db2-903d-19f3a3e0a588",
   "metadata": {},
   "outputs": [
    {
     "ename": "TypeError",
     "evalue": "object of type 'int' has no len()",
     "output_type": "error",
     "traceback": [
      "\u001b[0;31m---------------------------------------------------------------------------\u001b[0m",
      "\u001b[0;31mTypeError\u001b[0m                                 Traceback (most recent call last)",
      "Cell \u001b[0;32mIn[13], line 15\u001b[0m\n\u001b[1;32m     12\u001b[0m statsReport \u001b[38;5;241m=\u001b[39m paths[\u001b[38;5;124m\"\u001b[39m\u001b[38;5;124mfvoDocsOverview\u001b[39m\u001b[38;5;124m\"\u001b[39m]\n\u001b[1;32m     14\u001b[0m \u001b[38;5;28;01mwith\u001b[39;00m \u001b[38;5;28mopen\u001b[39m(statsReport, \u001b[38;5;124m'\u001b[39m\u001b[38;5;124mw\u001b[39m\u001b[38;5;124m'\u001b[39m, encoding\u001b[38;5;241m=\u001b[39m\u001b[38;5;124m\"\u001b[39m\u001b[38;5;124mutf-8\u001b[39m\u001b[38;5;124m\"\u001b[39m) \u001b[38;5;28;01mas\u001b[39;00m f:\n\u001b[0;32m---> 15\u001b[0m     f\u001b[38;5;241m.\u001b[39mwrite(\u001b[43mdf_fD\u001b[49m\u001b[38;5;241;43m.\u001b[39;49m\u001b[43mto_html\u001b[49m\u001b[43m(\u001b[49m\u001b[43mrender_links\u001b[49m\u001b[38;5;241;43m=\u001b[39;49m\u001b[38;5;28;43;01mFalse\u001b[39;49;00m\u001b[43m,\u001b[49m\u001b[43m \u001b[49m\u001b[43mformatters\u001b[49m\u001b[38;5;241;43m=\u001b[39;49m\u001b[43m{\u001b[49m\u001b[38;5;124;43m'\u001b[39;49m\u001b[38;5;124;43mnumber_of_fvos\u001b[39;49m\u001b[38;5;124;43m'\u001b[39;49m\u001b[43m:\u001b[49m\u001b[43m \u001b[49m\u001b[38;5;28;43;01mlambda\u001b[39;49;00m\u001b[43m \u001b[49m\u001b[43mx\u001b[49m\u001b[43m:\u001b[49m\u001b[43m \u001b[49m\u001b[38;5;28;43mint\u001b[39;49m\u001b[43m(\u001b[49m\u001b[43mx\u001b[49m\u001b[43m)\u001b[49m\u001b[43m,\u001b[49m\u001b[43m \u001b[49m\u001b[38;5;124;43m'\u001b[39;49m\u001b[38;5;124;43mfvos\u001b[39;49m\u001b[38;5;124;43m'\u001b[39;49m\u001b[43m:\u001b[49m\u001b[43m \u001b[49m\u001b[38;5;28;43;01mlambda\u001b[39;49;00m\u001b[43m \u001b[49m\u001b[43mx\u001b[49m\u001b[43m:\u001b[49m\u001b[43m \u001b[49m\u001b[43mmake_ul\u001b[49m\u001b[43m(\u001b[49m\u001b[43mx\u001b[49m\u001b[43m)\u001b[49m\u001b[43m \u001b[49m\u001b[43m}\u001b[49m\u001b[43m,\u001b[49m\u001b[43m \u001b[49m\u001b[43mescape\u001b[49m\u001b[38;5;241;43m=\u001b[39;49m\u001b[38;5;28;43;01mFalse\u001b[39;49;00m\u001b[43m)\u001b[49m)\n",
      "File \u001b[0;32m~/.virtualenvs/stats-c-Pa4dBq/lib64/python3.11/site-packages/pandas/core/frame.py:3129\u001b[0m, in \u001b[0;36mDataFrame.to_html\u001b[0;34m(self, buf, columns, col_space, header, index, na_rep, formatters, float_format, sparsify, index_names, justify, max_rows, max_cols, show_dimensions, decimal, bold_rows, classes, escape, notebook, border, table_id, render_links, encoding)\u001b[0m\n\u001b[1;32m   3109\u001b[0m formatter \u001b[38;5;241m=\u001b[39m fmt\u001b[38;5;241m.\u001b[39mDataFrameFormatter(\n\u001b[1;32m   3110\u001b[0m     \u001b[38;5;28mself\u001b[39m,\n\u001b[1;32m   3111\u001b[0m     columns\u001b[38;5;241m=\u001b[39mcolumns,\n\u001b[0;32m   (...)\u001b[0m\n\u001b[1;32m   3126\u001b[0m     show_dimensions\u001b[38;5;241m=\u001b[39mshow_dimensions,\n\u001b[1;32m   3127\u001b[0m )\n\u001b[1;32m   3128\u001b[0m \u001b[38;5;66;03m# TODO: a generic formatter wld b in DataFrameFormatter\u001b[39;00m\n\u001b[0;32m-> 3129\u001b[0m \u001b[38;5;28;01mreturn\u001b[39;00m \u001b[43mfmt\u001b[49m\u001b[38;5;241;43m.\u001b[39;49m\u001b[43mDataFrameRenderer\u001b[49m\u001b[43m(\u001b[49m\u001b[43mformatter\u001b[49m\u001b[43m)\u001b[49m\u001b[38;5;241;43m.\u001b[39;49m\u001b[43mto_html\u001b[49m\u001b[43m(\u001b[49m\n\u001b[1;32m   3130\u001b[0m \u001b[43m    \u001b[49m\u001b[43mbuf\u001b[49m\u001b[38;5;241;43m=\u001b[39;49m\u001b[43mbuf\u001b[49m\u001b[43m,\u001b[49m\n\u001b[1;32m   3131\u001b[0m \u001b[43m    \u001b[49m\u001b[43mclasses\u001b[49m\u001b[38;5;241;43m=\u001b[39;49m\u001b[43mclasses\u001b[49m\u001b[43m,\u001b[49m\n\u001b[1;32m   3132\u001b[0m \u001b[43m    \u001b[49m\u001b[43mnotebook\u001b[49m\u001b[38;5;241;43m=\u001b[39;49m\u001b[43mnotebook\u001b[49m\u001b[43m,\u001b[49m\n\u001b[1;32m   3133\u001b[0m \u001b[43m    \u001b[49m\u001b[43mborder\u001b[49m\u001b[38;5;241;43m=\u001b[39;49m\u001b[43mborder\u001b[49m\u001b[43m,\u001b[49m\n\u001b[1;32m   3134\u001b[0m \u001b[43m    \u001b[49m\u001b[43mencoding\u001b[49m\u001b[38;5;241;43m=\u001b[39;49m\u001b[43mencoding\u001b[49m\u001b[43m,\u001b[49m\n\u001b[1;32m   3135\u001b[0m \u001b[43m    \u001b[49m\u001b[43mtable_id\u001b[49m\u001b[38;5;241;43m=\u001b[39;49m\u001b[43mtable_id\u001b[49m\u001b[43m,\u001b[49m\n\u001b[1;32m   3136\u001b[0m \u001b[43m    \u001b[49m\u001b[43mrender_links\u001b[49m\u001b[38;5;241;43m=\u001b[39;49m\u001b[43mrender_links\u001b[49m\u001b[43m,\u001b[49m\n\u001b[1;32m   3137\u001b[0m \u001b[43m\u001b[49m\u001b[43m)\u001b[49m\n",
      "File \u001b[0;32m~/.virtualenvs/stats-c-Pa4dBq/lib64/python3.11/site-packages/pandas/io/formats/format.py:1108\u001b[0m, in \u001b[0;36mDataFrameRenderer.to_html\u001b[0;34m(self, buf, encoding, classes, notebook, border, table_id, render_links)\u001b[0m\n\u001b[1;32m   1099\u001b[0m Klass \u001b[38;5;241m=\u001b[39m NotebookFormatter \u001b[38;5;28;01mif\u001b[39;00m notebook \u001b[38;5;28;01melse\u001b[39;00m HTMLFormatter\n\u001b[1;32m   1101\u001b[0m html_formatter \u001b[38;5;241m=\u001b[39m Klass(\n\u001b[1;32m   1102\u001b[0m     \u001b[38;5;28mself\u001b[39m\u001b[38;5;241m.\u001b[39mfmt,\n\u001b[1;32m   1103\u001b[0m     classes\u001b[38;5;241m=\u001b[39mclasses,\n\u001b[0;32m   (...)\u001b[0m\n\u001b[1;32m   1106\u001b[0m     render_links\u001b[38;5;241m=\u001b[39mrender_links,\n\u001b[1;32m   1107\u001b[0m )\n\u001b[0;32m-> 1108\u001b[0m string \u001b[38;5;241m=\u001b[39m \u001b[43mhtml_formatter\u001b[49m\u001b[38;5;241;43m.\u001b[39;49m\u001b[43mto_string\u001b[49m\u001b[43m(\u001b[49m\u001b[43m)\u001b[49m\n\u001b[1;32m   1109\u001b[0m \u001b[38;5;28;01mreturn\u001b[39;00m save_to_buffer(string, buf\u001b[38;5;241m=\u001b[39mbuf, encoding\u001b[38;5;241m=\u001b[39mencoding)\n",
      "File \u001b[0;32m~/.virtualenvs/stats-c-Pa4dBq/lib64/python3.11/site-packages/pandas/io/formats/html.py:77\u001b[0m, in \u001b[0;36mHTMLFormatter.to_string\u001b[0;34m(self)\u001b[0m\n\u001b[1;32m     76\u001b[0m \u001b[38;5;28;01mdef\u001b[39;00m \u001b[38;5;21mto_string\u001b[39m(\u001b[38;5;28mself\u001b[39m) \u001b[38;5;241m-\u001b[39m\u001b[38;5;241m>\u001b[39m \u001b[38;5;28mstr\u001b[39m:\n\u001b[0;32m---> 77\u001b[0m     lines \u001b[38;5;241m=\u001b[39m \u001b[38;5;28;43mself\u001b[39;49m\u001b[38;5;241;43m.\u001b[39;49m\u001b[43mrender\u001b[49m\u001b[43m(\u001b[49m\u001b[43m)\u001b[49m\n\u001b[1;32m     78\u001b[0m     \u001b[38;5;28;01mif\u001b[39;00m \u001b[38;5;28many\u001b[39m(\u001b[38;5;28misinstance\u001b[39m(x, \u001b[38;5;28mstr\u001b[39m) \u001b[38;5;28;01mfor\u001b[39;00m x \u001b[38;5;129;01min\u001b[39;00m lines):\n\u001b[1;32m     79\u001b[0m         lines \u001b[38;5;241m=\u001b[39m [\u001b[38;5;28mstr\u001b[39m(x) \u001b[38;5;28;01mfor\u001b[39;00m x \u001b[38;5;129;01min\u001b[39;00m lines]\n",
      "File \u001b[0;32m~/.virtualenvs/stats-c-Pa4dBq/lib64/python3.11/site-packages/pandas/io/formats/html.py:83\u001b[0m, in \u001b[0;36mHTMLFormatter.render\u001b[0;34m(self)\u001b[0m\n\u001b[1;32m     82\u001b[0m \u001b[38;5;28;01mdef\u001b[39;00m \u001b[38;5;21mrender\u001b[39m(\u001b[38;5;28mself\u001b[39m) \u001b[38;5;241m-\u001b[39m\u001b[38;5;241m>\u001b[39m \u001b[38;5;28mlist\u001b[39m[\u001b[38;5;28mstr\u001b[39m]:\n\u001b[0;32m---> 83\u001b[0m     \u001b[38;5;28;43mself\u001b[39;49m\u001b[38;5;241;43m.\u001b[39;49m\u001b[43m_write_table\u001b[49m\u001b[43m(\u001b[49m\u001b[43m)\u001b[49m\n\u001b[1;32m     85\u001b[0m     \u001b[38;5;28;01mif\u001b[39;00m \u001b[38;5;28mself\u001b[39m\u001b[38;5;241m.\u001b[39mshould_show_dimensions:\n\u001b[1;32m     86\u001b[0m         by \u001b[38;5;241m=\u001b[39m \u001b[38;5;28mchr\u001b[39m(\u001b[38;5;241m215\u001b[39m)  \u001b[38;5;66;03m# ×\u001b[39;00m\n",
      "File \u001b[0;32m~/.virtualenvs/stats-c-Pa4dBq/lib64/python3.11/site-packages/pandas/io/formats/html.py:258\u001b[0m, in \u001b[0;36mHTMLFormatter._write_table\u001b[0;34m(self, indent)\u001b[0m\n\u001b[1;32m    255\u001b[0m \u001b[38;5;28;01mif\u001b[39;00m \u001b[38;5;28mself\u001b[39m\u001b[38;5;241m.\u001b[39mfmt\u001b[38;5;241m.\u001b[39mheader \u001b[38;5;129;01mor\u001b[39;00m \u001b[38;5;28mself\u001b[39m\u001b[38;5;241m.\u001b[39mshow_row_idx_names:\n\u001b[1;32m    256\u001b[0m     \u001b[38;5;28mself\u001b[39m\u001b[38;5;241m.\u001b[39m_write_header(indent \u001b[38;5;241m+\u001b[39m \u001b[38;5;28mself\u001b[39m\u001b[38;5;241m.\u001b[39mindent_delta)\n\u001b[0;32m--> 258\u001b[0m \u001b[38;5;28;43mself\u001b[39;49m\u001b[38;5;241;43m.\u001b[39;49m\u001b[43m_write_body\u001b[49m\u001b[43m(\u001b[49m\u001b[43mindent\u001b[49m\u001b[43m \u001b[49m\u001b[38;5;241;43m+\u001b[39;49m\u001b[43m \u001b[49m\u001b[38;5;28;43mself\u001b[39;49m\u001b[38;5;241;43m.\u001b[39;49m\u001b[43mindent_delta\u001b[49m\u001b[43m)\u001b[49m\n\u001b[1;32m    260\u001b[0m \u001b[38;5;28mself\u001b[39m\u001b[38;5;241m.\u001b[39mwrite(\u001b[38;5;124m\"\u001b[39m\u001b[38;5;124m</table>\u001b[39m\u001b[38;5;124m\"\u001b[39m, indent)\n",
      "File \u001b[0;32m~/.virtualenvs/stats-c-Pa4dBq/lib64/python3.11/site-packages/pandas/io/formats/html.py:406\u001b[0m, in \u001b[0;36mHTMLFormatter._write_body\u001b[0;34m(self, indent)\u001b[0m\n\u001b[1;32m    404\u001b[0m \u001b[38;5;28;01mdef\u001b[39;00m \u001b[38;5;21m_write_body\u001b[39m(\u001b[38;5;28mself\u001b[39m, indent: \u001b[38;5;28mint\u001b[39m) \u001b[38;5;241m-\u001b[39m\u001b[38;5;241m>\u001b[39m \u001b[38;5;28;01mNone\u001b[39;00m:\n\u001b[1;32m    405\u001b[0m     \u001b[38;5;28mself\u001b[39m\u001b[38;5;241m.\u001b[39mwrite(\u001b[38;5;124m\"\u001b[39m\u001b[38;5;124m<tbody>\u001b[39m\u001b[38;5;124m\"\u001b[39m, indent)\n\u001b[0;32m--> 406\u001b[0m     fmt_values \u001b[38;5;241m=\u001b[39m \u001b[38;5;28;43mself\u001b[39;49m\u001b[38;5;241;43m.\u001b[39;49m\u001b[43m_get_formatted_values\u001b[49m\u001b[43m(\u001b[49m\u001b[43m)\u001b[49m\n\u001b[1;32m    408\u001b[0m     \u001b[38;5;66;03m# write values\u001b[39;00m\n\u001b[1;32m    409\u001b[0m     \u001b[38;5;28;01mif\u001b[39;00m \u001b[38;5;28mself\u001b[39m\u001b[38;5;241m.\u001b[39mfmt\u001b[38;5;241m.\u001b[39mindex \u001b[38;5;129;01mand\u001b[39;00m \u001b[38;5;28misinstance\u001b[39m(\u001b[38;5;28mself\u001b[39m\u001b[38;5;241m.\u001b[39mframe\u001b[38;5;241m.\u001b[39mindex, MultiIndex):\n",
      "File \u001b[0;32m~/.virtualenvs/stats-c-Pa4dBq/lib64/python3.11/site-packages/pandas/io/formats/html.py:401\u001b[0m, in \u001b[0;36mHTMLFormatter._get_formatted_values\u001b[0;34m(self)\u001b[0m\n\u001b[1;32m    399\u001b[0m \u001b[38;5;28;01mdef\u001b[39;00m \u001b[38;5;21m_get_formatted_values\u001b[39m(\u001b[38;5;28mself\u001b[39m) \u001b[38;5;241m-\u001b[39m\u001b[38;5;241m>\u001b[39m \u001b[38;5;28mdict\u001b[39m[\u001b[38;5;28mint\u001b[39m, \u001b[38;5;28mlist\u001b[39m[\u001b[38;5;28mstr\u001b[39m]]:\n\u001b[1;32m    400\u001b[0m     \u001b[38;5;28;01mwith\u001b[39;00m option_context(\u001b[38;5;124m\"\u001b[39m\u001b[38;5;124mdisplay.max_colwidth\u001b[39m\u001b[38;5;124m\"\u001b[39m, \u001b[38;5;28;01mNone\u001b[39;00m):\n\u001b[0;32m--> 401\u001b[0m         fmt_values \u001b[38;5;241m=\u001b[39m \u001b[43m{\u001b[49m\u001b[43mi\u001b[49m\u001b[43m:\u001b[49m\u001b[43m \u001b[49m\u001b[38;5;28;43mself\u001b[39;49m\u001b[38;5;241;43m.\u001b[39;49m\u001b[43mfmt\u001b[49m\u001b[38;5;241;43m.\u001b[39;49m\u001b[43mformat_col\u001b[49m\u001b[43m(\u001b[49m\u001b[43mi\u001b[49m\u001b[43m)\u001b[49m\u001b[43m \u001b[49m\u001b[38;5;28;43;01mfor\u001b[39;49;00m\u001b[43m \u001b[49m\u001b[43mi\u001b[49m\u001b[43m \u001b[49m\u001b[38;5;129;43;01min\u001b[39;49;00m\u001b[43m \u001b[49m\u001b[38;5;28;43mrange\u001b[39;49m\u001b[43m(\u001b[49m\u001b[38;5;28;43mself\u001b[39;49m\u001b[38;5;241;43m.\u001b[39;49m\u001b[43mncols\u001b[49m\u001b[43m)\u001b[49m\u001b[43m}\u001b[49m\n\u001b[1;32m    402\u001b[0m     \u001b[38;5;28;01mreturn\u001b[39;00m fmt_values\n",
      "File \u001b[0;32m~/.virtualenvs/stats-c-Pa4dBq/lib64/python3.11/site-packages/pandas/io/formats/html.py:401\u001b[0m, in \u001b[0;36m<dictcomp>\u001b[0;34m(.0)\u001b[0m\n\u001b[1;32m    399\u001b[0m \u001b[38;5;28;01mdef\u001b[39;00m \u001b[38;5;21m_get_formatted_values\u001b[39m(\u001b[38;5;28mself\u001b[39m) \u001b[38;5;241m-\u001b[39m\u001b[38;5;241m>\u001b[39m \u001b[38;5;28mdict\u001b[39m[\u001b[38;5;28mint\u001b[39m, \u001b[38;5;28mlist\u001b[39m[\u001b[38;5;28mstr\u001b[39m]]:\n\u001b[1;32m    400\u001b[0m     \u001b[38;5;28;01mwith\u001b[39;00m option_context(\u001b[38;5;124m\"\u001b[39m\u001b[38;5;124mdisplay.max_colwidth\u001b[39m\u001b[38;5;124m\"\u001b[39m, \u001b[38;5;28;01mNone\u001b[39;00m):\n\u001b[0;32m--> 401\u001b[0m         fmt_values \u001b[38;5;241m=\u001b[39m {i: \u001b[38;5;28;43mself\u001b[39;49m\u001b[38;5;241;43m.\u001b[39;49m\u001b[43mfmt\u001b[49m\u001b[38;5;241;43m.\u001b[39;49m\u001b[43mformat_col\u001b[49m\u001b[43m(\u001b[49m\u001b[43mi\u001b[49m\u001b[43m)\u001b[49m \u001b[38;5;28;01mfor\u001b[39;00m i \u001b[38;5;129;01min\u001b[39;00m \u001b[38;5;28mrange\u001b[39m(\u001b[38;5;28mself\u001b[39m\u001b[38;5;241m.\u001b[39mncols)}\n\u001b[1;32m    402\u001b[0m     \u001b[38;5;28;01mreturn\u001b[39;00m fmt_values\n",
      "File \u001b[0;32m~/.virtualenvs/stats-c-Pa4dBq/lib64/python3.11/site-packages/pandas/io/formats/format.py:895\u001b[0m, in \u001b[0;36mDataFrameFormatter.format_col\u001b[0;34m(self, i)\u001b[0m\n\u001b[1;32m    893\u001b[0m frame \u001b[38;5;241m=\u001b[39m \u001b[38;5;28mself\u001b[39m\u001b[38;5;241m.\u001b[39mtr_frame\n\u001b[1;32m    894\u001b[0m formatter \u001b[38;5;241m=\u001b[39m \u001b[38;5;28mself\u001b[39m\u001b[38;5;241m.\u001b[39m_get_formatter(i)\n\u001b[0;32m--> 895\u001b[0m \u001b[38;5;28;01mreturn\u001b[39;00m \u001b[43mformat_array\u001b[49m\u001b[43m(\u001b[49m\n\u001b[1;32m    896\u001b[0m \u001b[43m    \u001b[49m\u001b[43mframe\u001b[49m\u001b[38;5;241;43m.\u001b[39;49m\u001b[43miloc\u001b[49m\u001b[43m[\u001b[49m\u001b[43m:\u001b[49m\u001b[43m,\u001b[49m\u001b[43m \u001b[49m\u001b[43mi\u001b[49m\u001b[43m]\u001b[49m\u001b[38;5;241;43m.\u001b[39;49m\u001b[43m_values\u001b[49m\u001b[43m,\u001b[49m\n\u001b[1;32m    897\u001b[0m \u001b[43m    \u001b[49m\u001b[43mformatter\u001b[49m\u001b[43m,\u001b[49m\n\u001b[1;32m    898\u001b[0m \u001b[43m    \u001b[49m\u001b[43mfloat_format\u001b[49m\u001b[38;5;241;43m=\u001b[39;49m\u001b[38;5;28;43mself\u001b[39;49m\u001b[38;5;241;43m.\u001b[39;49m\u001b[43mfloat_format\u001b[49m\u001b[43m,\u001b[49m\n\u001b[1;32m    899\u001b[0m \u001b[43m    \u001b[49m\u001b[43mna_rep\u001b[49m\u001b[38;5;241;43m=\u001b[39;49m\u001b[38;5;28;43mself\u001b[39;49m\u001b[38;5;241;43m.\u001b[39;49m\u001b[43mna_rep\u001b[49m\u001b[43m,\u001b[49m\n\u001b[1;32m    900\u001b[0m \u001b[43m    \u001b[49m\u001b[43mspace\u001b[49m\u001b[38;5;241;43m=\u001b[39;49m\u001b[38;5;28;43mself\u001b[39;49m\u001b[38;5;241;43m.\u001b[39;49m\u001b[43mcol_space\u001b[49m\u001b[38;5;241;43m.\u001b[39;49m\u001b[43mget\u001b[49m\u001b[43m(\u001b[49m\u001b[43mframe\u001b[49m\u001b[38;5;241;43m.\u001b[39;49m\u001b[43mcolumns\u001b[49m\u001b[43m[\u001b[49m\u001b[43mi\u001b[49m\u001b[43m]\u001b[49m\u001b[43m)\u001b[49m\u001b[43m,\u001b[49m\n\u001b[1;32m    901\u001b[0m \u001b[43m    \u001b[49m\u001b[43mdecimal\u001b[49m\u001b[38;5;241;43m=\u001b[39;49m\u001b[38;5;28;43mself\u001b[39;49m\u001b[38;5;241;43m.\u001b[39;49m\u001b[43mdecimal\u001b[49m\u001b[43m,\u001b[49m\n\u001b[1;32m    902\u001b[0m \u001b[43m    \u001b[49m\u001b[43mleading_space\u001b[49m\u001b[38;5;241;43m=\u001b[39;49m\u001b[38;5;28;43mself\u001b[39;49m\u001b[38;5;241;43m.\u001b[39;49m\u001b[43mindex\u001b[49m\u001b[43m,\u001b[49m\n\u001b[1;32m    903\u001b[0m \u001b[43m\u001b[49m\u001b[43m)\u001b[49m\n",
      "File \u001b[0;32m~/.virtualenvs/stats-c-Pa4dBq/lib64/python3.11/site-packages/pandas/io/formats/format.py:1330\u001b[0m, in \u001b[0;36mformat_array\u001b[0;34m(values, formatter, float_format, na_rep, digits, space, justify, decimal, leading_space, quoting, fallback_formatter)\u001b[0m\n\u001b[1;32m   1314\u001b[0m     digits \u001b[38;5;241m=\u001b[39m get_option(\u001b[38;5;124m\"\u001b[39m\u001b[38;5;124mdisplay.precision\u001b[39m\u001b[38;5;124m\"\u001b[39m)\n\u001b[1;32m   1316\u001b[0m fmt_obj \u001b[38;5;241m=\u001b[39m fmt_klass(\n\u001b[1;32m   1317\u001b[0m     values,\n\u001b[1;32m   1318\u001b[0m     digits\u001b[38;5;241m=\u001b[39mdigits,\n\u001b[0;32m   (...)\u001b[0m\n\u001b[1;32m   1327\u001b[0m     fallback_formatter\u001b[38;5;241m=\u001b[39mfallback_formatter,\n\u001b[1;32m   1328\u001b[0m )\n\u001b[0;32m-> 1330\u001b[0m \u001b[38;5;28;01mreturn\u001b[39;00m \u001b[43mfmt_obj\u001b[49m\u001b[38;5;241;43m.\u001b[39;49m\u001b[43mget_result\u001b[49m\u001b[43m(\u001b[49m\u001b[43m)\u001b[49m\n",
      "File \u001b[0;32m~/.virtualenvs/stats-c-Pa4dBq/lib64/python3.11/site-packages/pandas/io/formats/format.py:1364\u001b[0m, in \u001b[0;36mGenericArrayFormatter.get_result\u001b[0;34m(self)\u001b[0m\n\u001b[1;32m   1362\u001b[0m \u001b[38;5;28;01mdef\u001b[39;00m \u001b[38;5;21mget_result\u001b[39m(\u001b[38;5;28mself\u001b[39m) \u001b[38;5;241m-\u001b[39m\u001b[38;5;241m>\u001b[39m \u001b[38;5;28mlist\u001b[39m[\u001b[38;5;28mstr\u001b[39m]:\n\u001b[1;32m   1363\u001b[0m     fmt_values \u001b[38;5;241m=\u001b[39m \u001b[38;5;28mself\u001b[39m\u001b[38;5;241m.\u001b[39m_format_strings()\n\u001b[0;32m-> 1364\u001b[0m     \u001b[38;5;28;01mreturn\u001b[39;00m \u001b[43m_make_fixed_width\u001b[49m\u001b[43m(\u001b[49m\u001b[43mfmt_values\u001b[49m\u001b[43m,\u001b[49m\u001b[43m \u001b[49m\u001b[38;5;28;43mself\u001b[39;49m\u001b[38;5;241;43m.\u001b[39;49m\u001b[43mjustify\u001b[49m\u001b[43m)\u001b[49m\n",
      "File \u001b[0;32m~/.virtualenvs/stats-c-Pa4dBq/lib64/python3.11/site-packages/pandas/io/formats/format.py:1929\u001b[0m, in \u001b[0;36m_make_fixed_width\u001b[0;34m(strings, justify, minimum, adj)\u001b[0m\n\u001b[1;32m   1926\u001b[0m \u001b[38;5;28;01melse\u001b[39;00m:\n\u001b[1;32m   1927\u001b[0m     adjustment \u001b[38;5;241m=\u001b[39m adj\n\u001b[0;32m-> 1929\u001b[0m max_len \u001b[38;5;241m=\u001b[39m \u001b[38;5;28;43mmax\u001b[39;49m\u001b[43m(\u001b[49m\u001b[43madjustment\u001b[49m\u001b[38;5;241;43m.\u001b[39;49m\u001b[43mlen\u001b[49m\u001b[43m(\u001b[49m\u001b[43mx\u001b[49m\u001b[43m)\u001b[49m\u001b[43m \u001b[49m\u001b[38;5;28;43;01mfor\u001b[39;49;00m\u001b[43m \u001b[49m\u001b[43mx\u001b[49m\u001b[43m \u001b[49m\u001b[38;5;129;43;01min\u001b[39;49;00m\u001b[43m \u001b[49m\u001b[43mstrings\u001b[49m\u001b[43m)\u001b[49m\n\u001b[1;32m   1931\u001b[0m \u001b[38;5;28;01mif\u001b[39;00m minimum \u001b[38;5;129;01mis\u001b[39;00m \u001b[38;5;129;01mnot\u001b[39;00m \u001b[38;5;28;01mNone\u001b[39;00m:\n\u001b[1;32m   1932\u001b[0m     max_len \u001b[38;5;241m=\u001b[39m \u001b[38;5;28mmax\u001b[39m(minimum, max_len)\n",
      "File \u001b[0;32m~/.virtualenvs/stats-c-Pa4dBq/lib64/python3.11/site-packages/pandas/io/formats/format.py:1929\u001b[0m, in \u001b[0;36m<genexpr>\u001b[0;34m(.0)\u001b[0m\n\u001b[1;32m   1926\u001b[0m \u001b[38;5;28;01melse\u001b[39;00m:\n\u001b[1;32m   1927\u001b[0m     adjustment \u001b[38;5;241m=\u001b[39m adj\n\u001b[0;32m-> 1929\u001b[0m max_len \u001b[38;5;241m=\u001b[39m \u001b[38;5;28mmax\u001b[39m(\u001b[43madjustment\u001b[49m\u001b[38;5;241;43m.\u001b[39;49m\u001b[43mlen\u001b[49m\u001b[43m(\u001b[49m\u001b[43mx\u001b[49m\u001b[43m)\u001b[49m \u001b[38;5;28;01mfor\u001b[39;00m x \u001b[38;5;129;01min\u001b[39;00m strings)\n\u001b[1;32m   1931\u001b[0m \u001b[38;5;28;01mif\u001b[39;00m minimum \u001b[38;5;129;01mis\u001b[39;00m \u001b[38;5;129;01mnot\u001b[39;00m \u001b[38;5;28;01mNone\u001b[39;00m:\n\u001b[1;32m   1932\u001b[0m     max_len \u001b[38;5;241m=\u001b[39m \u001b[38;5;28mmax\u001b[39m(minimum, max_len)\n",
      "File \u001b[0;32m~/.virtualenvs/stats-c-Pa4dBq/lib64/python3.11/site-packages/pandas/io/formats/format.py:429\u001b[0m, in \u001b[0;36mTextAdjustment.len\u001b[0;34m(self, text)\u001b[0m\n\u001b[1;32m    428\u001b[0m \u001b[38;5;28;01mdef\u001b[39;00m \u001b[38;5;21mlen\u001b[39m(\u001b[38;5;28mself\u001b[39m, text: \u001b[38;5;28mstr\u001b[39m) \u001b[38;5;241m-\u001b[39m\u001b[38;5;241m>\u001b[39m \u001b[38;5;28mint\u001b[39m:\n\u001b[0;32m--> 429\u001b[0m     \u001b[38;5;28;01mreturn\u001b[39;00m \u001b[38;5;28;43mlen\u001b[39;49m\u001b[43m(\u001b[49m\u001b[43mtext\u001b[49m\u001b[43m)\u001b[49m\n",
      "\u001b[0;31mTypeError\u001b[0m: object of type 'int' has no len()"
     ]
    }
   ],
   "source": [
    "if len(featureDocs) > 0:\n",
    "    df_fD = pd.DataFrame(data=featureDocs)\n",
    "    df_fD['reportPath'] = df_fD.apply(lambda row: \"validationReport.html\" if row[\"status\"] == \"error\" else row[\"filename\"].replace('.xml','_fvoReport.html'), axis=1)\n",
    "    # re-order columns\n",
    "    df_fD = df_fD[['path', 'reportPath', 'status', 'lastUpdate', 'number_of_fvos']]#.reindex(sorted(df_fD.columns), axis=1)\n",
    "    df_fD = df_fD.sort_values('lastUpdate')\n",
    "    \n",
    "    df_fD['path'] = df_fD.apply(lambda x: make_clickable(x['path']), axis=1)\n",
    "    df_fD['reportPath'] = df_fD.apply(lambda x: make_clickable(x['reportPath'], aText=\"Report\"), axis=1)\n",
    "    df_fD.loc['Total number of fvos']= df_fD['number_of_fvos'].sum(skipna=True,axis=0)\n",
    "    \n",
    "    statsReport = paths[\"fvoDocsOverview\"]\n",
    "    \n",
    "    with open(statsReport, 'w', encoding=\"utf-8\") as f:\n",
    "        f.write(df_fD.to_html(render_links=False, formatters={'number_of_fvos': lambda x: str(int(x)), 'fvos': lambda x: make_ul(x) }, escape=False))"
   ]
  },
  {
   "cell_type": "code",
   "execution_count": null,
   "id": "3580bbe3-8957-446d-9b5a-6985df168573",
   "metadata": {},
   "outputs": [],
   "source": [
    "df_fD"
   ]
  },
  {
   "cell_type": "markdown",
   "id": "2ca824c9-2d3f-4f75-b4a1-8aa51d512efd",
   "metadata": {},
   "source": [
    "## Create a report for each fvo_doc"
   ]
  },
  {
   "cell_type": "code",
   "execution_count": null,
   "id": "b41c67b3-3be8-43f0-8d1a-617becee94e2",
   "metadata": {},
   "outputs": [],
   "source": [
    "fvos = []\n",
    "if len(featureDocs) > 0:\n",
    "    # create one report per fvo_doc\n",
    "    for i in featureDocs:\n",
    "        if 'fvos' in i.keys(): # filter out documents which couldn't be parsed (and thus don't have a representation of fvos)\n",
    "            fvos = fvos + i['fvos']\n",
    "            df_fvos = pd.DataFrame(data=i['fvos'])\n",
    "            df_fvos.set_index(\"id\")\n",
    "            df_fvos['path'] = df_fvos.apply(lambda x: make_clickable(x['path']+\"#L\"+str(x['sourceline'])), axis=1)\n",
    "            #df_fvos['path'] = df_fvos.apply(lambda x: make_clickable(x['path']), axis=1)\n",
    "            #df_fvos.set_index(\"filename\")\n",
    "            filename = i['filename']\n",
    "            fvoDocReport = paths[\"fvoDocReport\"](filename)\n",
    "            with open(fvoDocReport, 'w', encoding=\"utf-8\") as f:\n",
    "                f.write(df_fvos.to_html(render_links=True, escape=False))"
   ]
  },
  {
   "cell_type": "markdown",
   "id": "cdcc709c-0fbb-4ac7-bc10-a23b19ee93b1",
   "metadata": {},
   "source": [
    "## Create a summary of open fvos grouped per team member and status"
   ]
  },
  {
   "cell_type": "code",
   "execution_count": null,
   "id": "708356f8-9d58-4dc3-86aa-34db9fe344d9",
   "metadata": {},
   "outputs": [],
   "source": [
    "df_fvos = pd.DataFrame(fvos)"
   ]
  },
  {
   "cell_type": "code",
   "execution_count": null,
   "id": "2bb34cd9-5203-47b3-85cf-4ca593ff2617",
   "metadata": {},
   "outputs": [],
   "source": [
    "df_fvos"
   ]
  },
  {
   "cell_type": "code",
   "execution_count": null,
   "id": "d04d5af7-4a48-4060-9411-a2abd2539f63",
   "metadata": {},
   "outputs": [],
   "source": [
    "df_grouped_by_respAndStatus = df_fvos.pivot_table(index=\"fvoResp\", columns=\"status\", values=\"id\", aggfunc=\"size\", fill_value=0, dropna=True)\n",
    "\n",
    "pathToFvosOverviewPerMemberAndStatus = paths[\"fvos_overviewPerMemberAndStatus\"]\n",
    "\n",
    "df_grouped_by_respAndStatus[\"Open ffvos\"] = paths[\"fvos_openPerMember\"](df_grouped_by_respAndStatus.index)\n",
    "df_grouped_by_respAndStatus[\"Open ffvos\"] = df_grouped_by_respAndStatus[\"Open ffvos\"].apply(lambda x: make_clickable(x.replace(\"tmp/\",\"\")))\n",
    "with open(pathToFvosOverviewPerMemberAndStatus, 'w', encoding=\"utf-8\") as f:\n",
    "    f.write(df_grouped_by_respAndStatus.to_html(render_links=True, escape=False))"
   ]
  },
  {
   "cell_type": "code",
   "execution_count": null,
   "id": "f97df199-6a71-4727-bc71-c36346712e69",
   "metadata": {},
   "outputs": [],
   "source": [
    "df_grouped_by_resp = df_fvos.loc[df_fvos[\"status\"] != \"done\"].groupby(by=[\"fvoResp\"]) # filter out \"done\" fvos and group by resp\n",
    "for groupname, group in df_grouped_by_resp:\n",
    "    resp=groupname[0]\n",
    "    \n",
    "    pathTofvoRespReport = paths[\"fvos_openPerMember\"](resp)\n",
    "\n",
    "    \n",
    "    html = pd.DataFrame(group).to_html(render_links=True, escape=False)    \n",
    "    with open(pathTofvoRespReport, 'w', encoding=\"utf-8\") as f:\n",
    "         f.write(\"<h1>Open fvos for \"+resp+\"</h1>\\n\"+html)"
   ]
  }
 ],
 "metadata": {
  "kernelspec": {
   "display_name": "Python 3 (ipykernel)",
   "language": "python",
   "name": "python3"
  },
  "language_info": {
   "codemirror_mode": {
    "name": "ipython",
    "version": 3
   },
   "file_extension": ".py",
   "mimetype": "text/x-python",
   "name": "python",
   "nbconvert_exporter": "python",
   "pygments_lexer": "ipython3",
   "version": "3.11.3"
  }
 },
 "nbformat": 4,
 "nbformat_minor": 5
}
