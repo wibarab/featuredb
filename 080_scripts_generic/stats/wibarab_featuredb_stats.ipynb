{
 "cells": [
  {
   "cell_type": "markdown",
   "id": "8fccc48a-93a3-408d-bd5d-509db359db17",
   "metadata": {
    "tags": []
   },
   "source": [
    "# WIBARAB FeatureDB Statistics"
   ]
  },
  {
   "cell_type": "code",
   "execution_count": 1,
   "id": "c65d4064-25b5-403a-974f-e0dcfca6a1bd",
   "metadata": {
    "tags": []
   },
   "outputs": [],
   "source": [
    "import io\n",
    "import os\n",
    "import requests\n",
    "import pathlib\n",
    "import re\n",
    "import sys\n",
    "import json\n",
    "import pandas as pd\n",
    "import linecache as lc\n",
    "\n",
    "from pathlib import Path\n",
    "from urllib.parse import urlsplit\n",
    "import saxonche\n",
    "from zipfile import ZipFile\n",
    "from lxml import isoschematron, etree"
   ]
  },
  {
   "cell_type": "code",
   "execution_count": 2,
   "id": "00a8d77c-292e-4c1f-9d34-5d139f3fb585",
   "metadata": {
    "tags": []
   },
   "outputs": [
    {
     "name": "stdout",
     "output_type": "stream",
     "text": [
      "SaxonC-HE 12.3 from Saxonica\n",
      "/home/dschopper/data/WIBARAB/featuredb/080_scripts_generic\n"
     ]
    }
   ],
   "source": [
    "tmpDir = \"tmp\"\n",
    "libDir = \"lib\"\n",
    "os.makedirs(tmpDir, exist_ok=True)\n",
    "os.makedirs(libDir, exist_ok=True)\n",
    "nss = {\"tei\":\"http://www.tei-c.org/ns/1.0\", \"wib\":\"https://wibarab.acdh.oeaw.ac.at/langDesc\"}\n",
    "# the root of the git repository\n",
    "dataHome = \"../..\"\n",
    "\n",
    "# the path to the annotated TEI transcription files\n",
    "manannot = dataHome + \"/010_manannot\"\n",
    "# the path to the feature documents \n",
    "features = manannot + \"/features\"\n",
    "\n",
    "\n",
    "with saxonche.PySaxonProcessor(license=False) as proc:\n",
    "# SaxonC 1.2.1 Python has many known bugs but isn't maintained anymore\n",
    "# Many of the documented API specs are not working\n",
    "    print(proc.version)\n",
    "    proc.set_cwd(os.path.dirname(os.path.abspath('')))\n",
    "    print(proc.cwd)"
   ]
  },
  {
   "cell_type": "code",
   "execution_count": 3,
   "id": "8623f866-e5c8-4468-8c8c-52cd60c88b08",
   "metadata": {
    "tags": []
   },
   "outputs": [],
   "source": [
    "def downloadAndStore(url, force=False):   \n",
    "    #  filename of the file to be downloaded\n",
    "    fn = os.path.basename(url)\n",
    "    # fn w/o extension\n",
    "    basename = os.path.splitext(fn)[0]\n",
    "    # extension \n",
    "    ext = os.path.splitext(fn)[1]\n",
    "    dlFilePath = tmpDir + \"/\" + fn\n",
    "    if not os.path.exists(dlFilePath) and not force == True:\n",
    "        payload = requests.get(url).content\n",
    "        open(dlFilePath, 'wb').write(payload)\n",
    "    return dlFilePath"
   ]
  },
  {
   "cell_type": "code",
   "execution_count": 4,
   "id": "2e38bceb-17e4-4cc3-8a92-e1ced01bcf5c",
   "metadata": {
    "tags": []
   },
   "outputs": [],
   "source": [
    "def downloadAndUnzip(url):    \n",
    "    #  filename of the file to be downloaded\n",
    "    fn = os.path.basename(url)\n",
    "    # fn w/o extension\n",
    "    basename = os.path.splitext(fn)[0]\n",
    "    # extension \n",
    "    ext = os.path.splitext(fn)[1]\n",
    "    \n",
    "    if ext != \".zip\":\n",
    "        return \"not a zip archive\"\n",
    "    else:\n",
    "        zipFilePath = downloadAndStore(url)\n",
    "        # the path where the content should be extracted to\n",
    "        targetPath = libDir + \"/\" + basename\n",
    "        \n",
    "        \n",
    "        payload = requests.get(url).content\n",
    "        open(zipFilePath, 'wb').write(payload)\n",
    "        ZipFile(zipFilePath).extractall(path=targetPath)\n",
    "    \n",
    "    return targetPath"
   ]
  },
  {
   "cell_type": "code",
   "execution_count": 5,
   "id": "7d065cfe-c23a-4774-b87d-8034f8171386",
   "metadata": {
    "tags": []
   },
   "outputs": [],
   "source": [
    "def transform(s, xsl, o, parameters=[]):\n",
    "    # processor keeps files open on Windows and in doing so prevents moving or copying them\n",
    "    with saxonche.PySaxonProcessor(license=False) as proc:\n",
    "        proc.set_configuration_property(\"xi\", \"on\")\n",
    "        saxon = proc.new_xslt30_processor()\n",
    "        for i in parameters:\n",
    "            saxon.set_parameter(name=i, value=proc.make_string_value(parameters[i]))\n",
    "        exec = saxon.compile_stylesheet(stylesheet_file=os.path.abspath(xsl))\n",
    "        exec.apply_templates_returning_file(source_file=os.path.abspath(s), output_file=os.path.abspath(o))\n",
    "        if exec.exception_occurred:\n",
    "            exec.get_error_message\n",
    "            #for i in range(saxon.exception_count()-1):\n",
    "            print(saxon.get_error_message())\n",
    "            print(os.path.abspath(s)+\" - \"+os.path.abspath(xsl)+\" -> \"+os.path.abspath(o)+\" failed\")\n",
    "        if os.path.exists(os.path.abspath(o)):\n",
    "            return o\n",
    "        else: \n",
    "            print(\"there was an error transforming \"+s+\" with stylesheet \"+xsl)"
   ]
  },
  {
   "cell_type": "code",
   "execution_count": 6,
   "id": "290bcfce-aa20-4bd0-bb57-bcf37c3b8699",
   "metadata": {},
   "outputs": [],
   "source": [
    "def docStatus(doc):\n",
    "    \"\"\"returns the status of the document at path; if the document can't be parsed, it returns a dict with the error\"\"\"\n",
    "    revisionDesc = doc.xpath(\"/tei:TEI/tei:teiHeader/tei:revisionDesc\", namespaces=nss)[0]\n",
    "    status = revisionDesc.attrib['status']\n",
    "    lastUpdate = revisionDesc.xpath(\"//tei:change\", namespaces=nss)[0].get('when')\n",
    "    return {\n",
    "        \"status\" : status,\n",
    "        \"lastUpdate\": lastUpdate\n",
    "    }"
   ]
  },
  {
   "cell_type": "code",
   "execution_count": 7,
   "id": "5457b88b-59d1-42a3-82b5-e0c5fbcad46e",
   "metadata": {},
   "outputs": [],
   "source": [
    "def getFVOInfo(fvo):\n",
    "    fvoID = fvo.get(\"{http://www.w3.org/XML/1998/namespace}id\")\n",
    "    fvoResp = fvo.get('resp')\n",
    "    fvoStatus = fvo.get('status')\n",
    "    fvRef = fvo.xpath(\"tei:name[@type = 'featureValue']/@ref\", namespaces=nss)[0]\n",
    "    return {\n",
    "        \"id\": fvoID,\n",
    "        \"fvoResp\" : fvoResp,\n",
    "        \"status\": fvoStatus,\n",
    "        \"featureValue\": fvRef,\n",
    "        \"sourceline\": fvo.sourceline\n",
    "    }"
   ]
  },
  {
   "cell_type": "code",
   "execution_count": 8,
   "id": "e38a3be0-ca56-47b4-9166-8f0a0bcd64a8",
   "metadata": {},
   "outputs": [],
   "source": [
    "def getInfoAboutFeatureDoc(path):\n",
    "    try:\n",
    "        doc = etree.parse(path)\n",
    "        revisionDesc = doc.xpath(\"/tei:TEI/tei:teiHeader/tei:revisionDesc\", namespaces=nss)[0]\n",
    "        status = docStatus(doc)\n",
    "\n",
    "        fvos_unsorted = []\n",
    "        for f in doc.xpath(\"//wib:featureValueObservation\", namespaces=nss): \n",
    "            fvoInfo = getFVOInfo(f)\n",
    "            fileInfo = {\"path\" : path}\n",
    "            fvo = { **fvoInfo, **fileInfo }\n",
    "            fvos_unsorted.append( fvo )\n",
    "        fvos = sorted(fvos_unsorted, key=lambda d: d['status']) \n",
    "        \n",
    "        docInfo = {\n",
    "            \"path\": path,\n",
    "            \"number_of_fvos\" : len(fvos),\n",
    "            \"fvos\": fvos\n",
    "        }\n",
    "        return { **docInfo, **status }\n",
    "        \n",
    "    except etree.XMLSyntaxError as e:\n",
    "        valErrObj = {\n",
    "            \"status\" : \"error\",\n",
    "            \"path\": path, \n",
    "            \"msg\" : e.msg,\n",
    "            \"number_of_fvos\": \"n/a\"\n",
    "        }\n",
    "        return valErrObj"
   ]
  },
  {
   "cell_type": "code",
   "execution_count": 9,
   "id": "bb70d327-e12a-4c39-bc4f-c29722518595",
   "metadata": {
    "tags": []
   },
   "outputs": [],
   "source": [
    "featureDocs = []"
   ]
  },
  {
   "cell_type": "code",
   "execution_count": 10,
   "id": "21379b89-b400-470f-be6b-1a70f6fe324a",
   "metadata": {
    "scrolled": true,
    "tags": []
   },
   "outputs": [],
   "source": [
    "for i in os.scandir(features):\n",
    "    if i.name.endswith('.xml') and i.is_file():\n",
    "        filename = os.path.basename(i)\n",
    "        filepath = features + \"/\" + filename\n",
    "        info = getInfoAboutFeatureDoc(filepath)\n",
    "        featureDocs.append(info)"
   ]
  },
  {
   "cell_type": "code",
   "execution_count": 15,
   "id": "c956070f-37ce-4061-9074-7488260bddb9",
   "metadata": {
    "tags": []
   },
   "outputs": [],
   "source": [
    "def make_clickable(source, line=None, aText=None):\n",
    "    link = source.replace('../../','https://github.com/wibarab/featuredb/blob/main/')\n",
    "    if line:\n",
    "        return f'<a href=\"{link}#L{line}\">{aText if aText is not None else source}</a>'\n",
    "    else:\n",
    "        return f'<a href=\"{link}\">{aText if aText is not None else source}</a>'"
   ]
  },
  {
   "cell_type": "code",
   "execution_count": 16,
   "id": "058a07c8-14b0-4c7b-902c-a536daa79d98",
   "metadata": {},
   "outputs": [],
   "source": [
    "def make_list(fvos):\n",
    "    out = \"<ul>\"\n",
    "    for i in fvos:\n",
    "        out = out +\"<li>\" + i['status'] + \" - \" + i['fvoResp'] + \" - \" + i['featureValue']+ \" - \" + make_clickable(i['path'], line=i['sourceline'], aText = i['id']) + \" </li>\"\n",
    "    out = out + \"</ul>\"\n",
    "    return out"
   ]
  },
  {
   "cell_type": "code",
   "execution_count": 17,
   "id": "20bb32c0-de42-4b7f-86a5-ded44efae0ab",
   "metadata": {},
   "outputs": [],
   "source": [
    "if len(featureDocs) > 0:\n",
    "    df_fD = pd.DataFrame(data=featureDocs).T\n",
    "    df_fD = df_fD.transpose()\n",
    "    df_fD = df_fD[['path', 'status', 'lastUpdate', 'number_of_fvos', 'fvos']]#.reindex(sorted(df_fD.columns), axis=1)\n",
    "    df_fD = df_fD.sort_values('lastUpdate')\n",
    "    df_fD\n",
    "else: \n",
    "    print(\"no featureDocs\")"
   ]
  },
  {
   "cell_type": "code",
   "execution_count": 18,
   "id": "e21a67ef-1b0e-4bcb-904d-4ff4b1e9921f",
   "metadata": {},
   "outputs": [],
   "source": [
    "    statsReport = \"tmp/statsReport.html\"\n",
    "    df_fD['path'] = df_fD.apply(lambda x: make_clickable(x['path']), axis=1)\n",
    "    with open(statsReport, 'w', encoding=\"utf-8\") as f:\n",
    "        f.write(df_fD.to_html(render_links=True, formatters={'fvos': lambda x: make_list(x) }, escape=False))"
   ]
  }
 ],
 "metadata": {
  "kernelspec": {
   "display_name": "Python 3 (ipykernel)",
   "language": "python",
   "name": "python3"
  },
  "language_info": {
   "codemirror_mode": {
    "name": "ipython",
    "version": 3
   },
   "file_extension": ".py",
   "mimetype": "text/x-python",
   "name": "python",
   "nbconvert_exporter": "python",
   "pygments_lexer": "ipython3",
   "version": "3.11.3"
  }
 },
 "nbformat": 4,
 "nbformat_minor": 5
}
