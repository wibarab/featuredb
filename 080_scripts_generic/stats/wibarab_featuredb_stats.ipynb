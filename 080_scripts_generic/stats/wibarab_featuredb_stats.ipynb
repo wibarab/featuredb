{
 "cells": [
  {
   "cell_type": "markdown",
   "id": "8fccc48a-93a3-408d-bd5d-509db359db17",
   "metadata": {
    "tags": []
   },
   "source": [
    "# WIBARAB FeatureDB Statistics"
   ]
  },
  {
   "cell_type": "code",
   "execution_count": 1,
   "id": "c65d4064-25b5-403a-974f-e0dcfca6a1bd",
   "metadata": {
    "tags": []
   },
   "outputs": [],
   "source": [
    "import io\n",
    "import os\n",
    "import requests\n",
    "import pathlib\n",
    "import re\n",
    "import sys\n",
    "import json\n",
    "import pandas as pd\n",
    "import linecache as lc\n",
    "\n",
    "from pathlib import Path\n",
    "from urllib.parse import urlsplit\n",
    "import saxonche\n",
    "from zipfile import ZipFile\n",
    "from lxml import isoschematron, etree"
   ]
  },
  {
   "cell_type": "code",
   "execution_count": 2,
   "id": "00a8d77c-292e-4c1f-9d34-5d139f3fb585",
   "metadata": {
    "tags": []
   },
   "outputs": [
    {
     "name": "stdout",
     "output_type": "stream",
     "text": [
      "SaxonC-HE 12.3 from Saxonica\n",
      "/home/dschopper/data/WIBARAB/featuredb/080_scripts_generic\n"
     ]
    }
   ],
   "source": [
    "tmpDir = \"tmp\"\n",
    "libDir = \"lib\"\n",
    "outputPath = tmpDir\n",
    "os.makedirs(tmpDir, exist_ok=True)\n",
    "os.makedirs(libDir, exist_ok=True)\n",
    "os.makedirs(outputPath, exist_ok=True)\n",
    "nss = {\"tei\":\"http://www.tei-c.org/ns/1.0\", \"wib\":\"https://wibarab.acdh.oeaw.ac.at/langDesc\"}\n",
    "# the root of the git repository\n",
    "dataHome = \"../..\"\n",
    "\n",
    "# the path to the annotated TEI transcription files\n",
    "manannot = dataHome + \"/010_manannot\"\n",
    "# the path to the feature documents \n",
    "features = manannot + \"/features\"\n",
    "\n",
    "\n",
    "with saxonche.PySaxonProcessor(license=False) as proc:\n",
    "# SaxonC 1.2.1 Python has many known bugs but isn't maintained anymore\n",
    "# Many of the documented API specs are not working\n",
    "    print(proc.version)\n",
    "    proc.set_cwd(os.path.dirname(os.path.abspath('')))\n",
    "    print(proc.cwd)"
   ]
  },
  {
   "cell_type": "code",
   "execution_count": 3,
   "id": "7d065cfe-c23a-4774-b87d-8034f8171386",
   "metadata": {
    "tags": []
   },
   "outputs": [],
   "source": [
    "def transform(s, xsl, o, parameters=[]):\n",
    "    # processor keeps files open on Windows and in doing so prevents moving or copying them\n",
    "    with saxonche.PySaxonProcessor(license=False) as proc:\n",
    "        proc.set_configuration_property(\"xi\", \"on\")\n",
    "        saxon = proc.new_xslt30_processor()\n",
    "        for i in parameters:\n",
    "            saxon.set_parameter(name=i, value=proc.make_string_value(parameters[i]))\n",
    "        exec = saxon.compile_stylesheet(stylesheet_file=os.path.abspath(xsl))\n",
    "        exec.apply_templates_returning_file(source_file=os.path.abspath(s), output_file=os.path.abspath(o))\n",
    "        if exec.exception_occurred:\n",
    "            exec.get_error_message\n",
    "            #for i in range(saxon.exception_count()-1):\n",
    "            print(saxon.get_error_message())\n",
    "            print(os.path.abspath(s)+\" - \"+os.path.abspath(xsl)+\" -> \"+os.path.abspath(o)+\" failed\")\n",
    "        if os.path.exists(os.path.abspath(o)):\n",
    "            return o\n",
    "        else: \n",
    "            print(\"there was an error transforming \"+s+\" with stylesheet \"+xsl)"
   ]
  },
  {
   "cell_type": "code",
   "execution_count": 4,
   "id": "290bcfce-aa20-4bd0-bb57-bcf37c3b8699",
   "metadata": {},
   "outputs": [],
   "source": [
    "def docStatus(doc):\n",
    "    \"\"\"returns the status of the document at path; if the document can't be parsed, it returns a dict with the error\"\"\"\n",
    "    revisionDesc = doc.xpath(\"/tei:TEI/tei:teiHeader/tei:revisionDesc\", namespaces=nss)[0]\n",
    "    status = revisionDesc.attrib['status']\n",
    "    lastUpdate = revisionDesc.xpath(\"//tei:change\", namespaces=nss)[0].get('when')\n",
    "    return {\n",
    "        \"status\" : status,\n",
    "        \"lastUpdate\": lastUpdate\n",
    "    }"
   ]
  },
  {
   "cell_type": "code",
   "execution_count": 5,
   "id": "5457b88b-59d1-42a3-82b5-e0c5fbcad46e",
   "metadata": {},
   "outputs": [],
   "source": [
    "def getFVOInfo(fvo):\n",
    "    fvoID = fvo.get(\"{http://www.w3.org/XML/1998/namespace}id\")\n",
    "    fvoResp = fvo.get('resp')\n",
    "    fvoStatus = fvo.get('status')\n",
    "    fvRef = fvo.xpath(\"tei:name[@type = 'featureValue']/@ref\", namespaces=nss)[0]\n",
    "    return {\n",
    "        \"id\": fvoID,\n",
    "        \"fvoResp\" : fvoResp,\n",
    "        \"status\": fvoStatus,\n",
    "        \"featureValue\": fvRef,\n",
    "        \"sourceline\": fvo.sourceline\n",
    "    }"
   ]
  },
  {
   "cell_type": "code",
   "execution_count": 6,
   "id": "e38a3be0-ca56-47b4-9166-8f0a0bcd64a8",
   "metadata": {},
   "outputs": [],
   "source": [
    "def getInfoAboutFeatureDoc(path):\n",
    "    filename = os.path.basename(path)\n",
    "    try:\n",
    "        doc = etree.parse(path)\n",
    "        revisionDesc = doc.xpath(\"/tei:TEI/tei:teiHeader/tei:revisionDesc\", namespaces=nss)[0]\n",
    "        status = docStatus(doc)\n",
    "\n",
    "        fvos_unsorted = []\n",
    "        for f in doc.xpath(\"//wib:featureValueObservation\", namespaces=nss): \n",
    "            fvoInfo = getFVOInfo(f)\n",
    "            fileInfo = {\"path\" : path}\n",
    "            fvo = { **fvoInfo, **fileInfo }\n",
    "            fvos_unsorted.append( fvo )\n",
    "        fvos = sorted(fvos_unsorted, key=lambda d: d['status']) \n",
    "        \n",
    "        docInfo = {\n",
    "            \"path\": path,\n",
    "            \"filename\": filename,\n",
    "            \"number_of_fvos\" : len(fvos),\n",
    "            \"fvos\": fvos\n",
    "        }\n",
    "        return { **docInfo, **status }\n",
    "        \n",
    "    except etree.XMLSyntaxError as e:\n",
    "        valErrObj = {\n",
    "            \"status\" : \"error\",\n",
    "             \"filename\": filename,\n",
    "            \"path\": path\n",
    "         #   \"number_of_fvos\": \n",
    "        }\n",
    "        return valErrObj"
   ]
  },
  {
   "cell_type": "code",
   "execution_count": 7,
   "id": "bb70d327-e12a-4c39-bc4f-c29722518595",
   "metadata": {
    "tags": []
   },
   "outputs": [],
   "source": [
    "featureDocs = []"
   ]
  },
  {
   "cell_type": "code",
   "execution_count": 8,
   "id": "21379b89-b400-470f-be6b-1a70f6fe324a",
   "metadata": {
    "scrolled": true,
    "tags": []
   },
   "outputs": [],
   "source": [
    "for i in os.scandir(features):\n",
    "    if i.name.endswith('.xml') and i.is_file():\n",
    "        filename = os.path.basename(i)\n",
    "        filepath = features + \"/\" + filename\n",
    "        info = getInfoAboutFeatureDoc(filepath)\n",
    "        featureDocs.append(info)"
   ]
  },
  {
   "cell_type": "code",
   "execution_count": 9,
   "id": "c956070f-37ce-4061-9074-7488260bddb9",
   "metadata": {
    "tags": []
   },
   "outputs": [],
   "source": [
    "def make_clickable(source, line=None, aText=None):\n",
    "    link = source.replace('../../','https://github.com/wibarab/featuredb/blob/main/')\n",
    "    if line:\n",
    "        return f'<a href=\"{link}#L{line}\">{aText if aText is not None else source}</a>'\n",
    "    else:\n",
    "        return f'<a href=\"{link}\">{aText if aText is not None else source}</a>'"
   ]
  },
  {
   "cell_type": "code",
   "execution_count": 10,
   "id": "058a07c8-14b0-4c7b-902c-a536daa79d98",
   "metadata": {},
   "outputs": [],
   "source": [
    "def make_ul(fvos):\n",
    "    out = \"<ul>\"\n",
    "    for i in fvos:\n",
    "        out = out +\"<li>\" + i['status'] + \" - \" + i['fvoResp'] + \" - \" + i['featureValue']+ \" - \" + make_clickable(i['path'], line=i['sourceline'], aText = i['id']) + \" </li>\"\n",
    "    out = out + \"</ul>\"\n",
    "    return out"
   ]
  },
  {
   "cell_type": "markdown",
   "id": "0328399e-a87d-4b2d-a69d-631c44f819a9",
   "metadata": {},
   "source": [
    "## Create a summary report for all fvo_docs"
   ]
  },
  {
   "cell_type": "code",
   "execution_count": 11,
   "id": "86d83288-1c77-4db2-903d-19f3a3e0a588",
   "metadata": {},
   "outputs": [],
   "source": [
    "if len(featureDocs) > 0:\n",
    "    df_fD = pd.DataFrame(data=featureDocs)\n",
    "    df_fD['reportPath'] = df_fD['filename'].apply(lambda x: x.replace('.xml','_fvoReport.html'))\n",
    "    # re-order columns\n",
    "    df_fD = df_fD[['path', 'reportPath', 'status', 'lastUpdate', 'number_of_fvos']]#.reindex(sorted(df_fD.columns), axis=1)\n",
    "    df_fD = df_fD.sort_values('lastUpdate')\n",
    "    \n",
    "    df_fD['path'] = df_fD.apply(lambda x: make_clickable(x['path']), axis=1)\n",
    "    df_fD['reportPath'] = df_fD.apply(lambda x: make_clickable(x['reportPath'], aText=\"Report\"), axis=1)\n",
    "    df_fD.loc['Total number of fvos']= df_fD['number_of_fvos'].sum(skipna=True,axis=0)\n",
    "    \n",
    "    statsReport = outputPath + \"/statsReport.html\"\n",
    "    \n",
    "    with open(statsReport, 'w', encoding=\"utf-8\") as f:\n",
    "        f.write(df_fD.to_html(render_links=False, formatters={'number_of_fvos': lambda x: int(x), 'fvos': lambda x: make_ul(x) }, escape=False))"
   ]
  },
  {
   "cell_type": "code",
   "execution_count": 12,
   "id": "3580bbe3-8957-446d-9b5a-6985df168573",
   "metadata": {},
   "outputs": [
    {
     "data": {
      "text/html": [
       "<div>\n",
       "<style scoped>\n",
       "    .dataframe tbody tr th:only-of-type {\n",
       "        vertical-align: middle;\n",
       "    }\n",
       "\n",
       "    .dataframe tbody tr th {\n",
       "        vertical-align: top;\n",
       "    }\n",
       "\n",
       "    .dataframe thead th {\n",
       "        text-align: right;\n",
       "    }\n",
       "</style>\n",
       "<table border=\"1\" class=\"dataframe\">\n",
       "  <thead>\n",
       "    <tr style=\"text-align: right;\">\n",
       "      <th></th>\n",
       "      <th>path</th>\n",
       "      <th>reportPath</th>\n",
       "      <th>status</th>\n",
       "      <th>lastUpdate</th>\n",
       "      <th>number_of_fvos</th>\n",
       "    </tr>\n",
       "  </thead>\n",
       "  <tbody>\n",
       "    <tr>\n",
       "      <th>0</th>\n",
       "      <td>&lt;a href=\"https://github.com/wibarab/featuredb/...</td>\n",
       "      <td>&lt;a href=\"features_pron_sg_p2_c_fvoReport.html\"...</td>\n",
       "      <td>draft</td>\n",
       "      <td>2022-08-17</td>\n",
       "      <td>46.0</td>\n",
       "    </tr>\n",
       "    <tr>\n",
       "      <th>38</th>\n",
       "      <td>&lt;a href=\"https://github.com/wibarab/featuredb/...</td>\n",
       "      <td>&lt;a href=\"feature_bound_pronoun_2ps_sg_f_after_...</td>\n",
       "      <td>draft</td>\n",
       "      <td>2022-08-17</td>\n",
       "      <td>278.0</td>\n",
       "    </tr>\n",
       "    <tr>\n",
       "      <th>39</th>\n",
       "      <td>&lt;a href=\"https://github.com/wibarab/featuredb/...</td>\n",
       "      <td>&lt;a href=\"features_pron_pl_p3_m_fvoReport.html\"...</td>\n",
       "      <td>draft</td>\n",
       "      <td>2022-08-17</td>\n",
       "      <td>215.0</td>\n",
       "    </tr>\n",
       "    <tr>\n",
       "      <th>40</th>\n",
       "      <td>&lt;a href=\"https://github.com/wibarab/featuredb/...</td>\n",
       "      <td>&lt;a href=\"features_pron_sg_p2_f_fvoReport.html\"...</td>\n",
       "      <td>draft</td>\n",
       "      <td>2022-08-17</td>\n",
       "      <td>268.0</td>\n",
       "    </tr>\n",
       "    <tr>\n",
       "      <th>42</th>\n",
       "      <td>&lt;a href=\"https://github.com/wibarab/featuredb/...</td>\n",
       "      <td>&lt;a href=\"features_pron_sg_p3_f_fvoReport.html\"...</td>\n",
       "      <td>draft</td>\n",
       "      <td>2022-08-17</td>\n",
       "      <td>323.0</td>\n",
       "    </tr>\n",
       "    <tr>\n",
       "      <th>...</th>\n",
       "      <td>...</td>\n",
       "      <td>...</td>\n",
       "      <td>...</td>\n",
       "      <td>...</td>\n",
       "      <td>...</td>\n",
       "    </tr>\n",
       "    <tr>\n",
       "      <th>56</th>\n",
       "      <td>&lt;a href=\"https://github.com/wibarab/featuredb/...</td>\n",
       "      <td>&lt;a href=\"features_ghayn_fvoReport.html\"&gt;Report...</td>\n",
       "      <td>error</td>\n",
       "      <td>NaN</td>\n",
       "      <td>NaN</td>\n",
       "    </tr>\n",
       "    <tr>\n",
       "      <th>62</th>\n",
       "      <td>&lt;a href=\"https://github.com/wibarab/featuredb/...</td>\n",
       "      <td>&lt;a href=\"features_k_fvoReport.html\"&gt;Report&lt;/a&gt;</td>\n",
       "      <td>error</td>\n",
       "      <td>NaN</td>\n",
       "      <td>NaN</td>\n",
       "    </tr>\n",
       "    <tr>\n",
       "      <th>64</th>\n",
       "      <td>&lt;a href=\"https://github.com/wibarab/featuredb/...</td>\n",
       "      <td>&lt;a href=\"feature_IMP_2sg_m_3weak_fvoReport.htm...</td>\n",
       "      <td>error</td>\n",
       "      <td>NaN</td>\n",
       "      <td>NaN</td>\n",
       "    </tr>\n",
       "    <tr>\n",
       "      <th>67</th>\n",
       "      <td>&lt;a href=\"https://github.com/wibarab/featuredb/...</td>\n",
       "      <td>&lt;a href=\"feature_PFV_3sg_f_3wy_fvoReport.html\"...</td>\n",
       "      <td>error</td>\n",
       "      <td>NaN</td>\n",
       "      <td>NaN</td>\n",
       "    </tr>\n",
       "    <tr>\n",
       "      <th>Total number of fvos</th>\n",
       "      <td>8823.0</td>\n",
       "      <td>8823.0</td>\n",
       "      <td>8823.0</td>\n",
       "      <td>8823.0</td>\n",
       "      <td>8823.0</td>\n",
       "    </tr>\n",
       "  </tbody>\n",
       "</table>\n",
       "<p>69 rows × 5 columns</p>\n",
       "</div>"
      ],
      "text/plain": [
       "                                                                   path  \\\n",
       "0                     <a href=\"https://github.com/wibarab/featuredb/...   \n",
       "38                    <a href=\"https://github.com/wibarab/featuredb/...   \n",
       "39                    <a href=\"https://github.com/wibarab/featuredb/...   \n",
       "40                    <a href=\"https://github.com/wibarab/featuredb/...   \n",
       "42                    <a href=\"https://github.com/wibarab/featuredb/...   \n",
       "...                                                                 ...   \n",
       "56                    <a href=\"https://github.com/wibarab/featuredb/...   \n",
       "62                    <a href=\"https://github.com/wibarab/featuredb/...   \n",
       "64                    <a href=\"https://github.com/wibarab/featuredb/...   \n",
       "67                    <a href=\"https://github.com/wibarab/featuredb/...   \n",
       "Total number of fvos                                             8823.0   \n",
       "\n",
       "                                                             reportPath  \\\n",
       "0                     <a href=\"features_pron_sg_p2_c_fvoReport.html\"...   \n",
       "38                    <a href=\"feature_bound_pronoun_2ps_sg_f_after_...   \n",
       "39                    <a href=\"features_pron_pl_p3_m_fvoReport.html\"...   \n",
       "40                    <a href=\"features_pron_sg_p2_f_fvoReport.html\"...   \n",
       "42                    <a href=\"features_pron_sg_p3_f_fvoReport.html\"...   \n",
       "...                                                                 ...   \n",
       "56                    <a href=\"features_ghayn_fvoReport.html\">Report...   \n",
       "62                       <a href=\"features_k_fvoReport.html\">Report</a>   \n",
       "64                    <a href=\"feature_IMP_2sg_m_3weak_fvoReport.htm...   \n",
       "67                    <a href=\"feature_PFV_3sg_f_3wy_fvoReport.html\"...   \n",
       "Total number of fvos                                             8823.0   \n",
       "\n",
       "                      status  lastUpdate  number_of_fvos  \n",
       "0                      draft  2022-08-17            46.0  \n",
       "38                     draft  2022-08-17           278.0  \n",
       "39                     draft  2022-08-17           215.0  \n",
       "40                     draft  2022-08-17           268.0  \n",
       "42                     draft  2022-08-17           323.0  \n",
       "...                      ...         ...             ...  \n",
       "56                     error         NaN             NaN  \n",
       "62                     error         NaN             NaN  \n",
       "64                     error         NaN             NaN  \n",
       "67                     error         NaN             NaN  \n",
       "Total number of fvos  8823.0      8823.0          8823.0  \n",
       "\n",
       "[69 rows x 5 columns]"
      ]
     },
     "execution_count": 12,
     "metadata": {},
     "output_type": "execute_result"
    }
   ],
   "source": [
    "df_fD"
   ]
  },
  {
   "cell_type": "markdown",
   "id": "2ca824c9-2d3f-4f75-b4a1-8aa51d512efd",
   "metadata": {},
   "source": [
    "## Create a report for each fvo_doc"
   ]
  },
  {
   "cell_type": "code",
   "execution_count": 14,
   "id": "b41c67b3-3be8-43f0-8d1a-617becee94e2",
   "metadata": {},
   "outputs": [],
   "source": [
    "if len(featureDocs) > 0:\n",
    "    # create one report per fvo_doc\n",
    "    for i in featureDocs:\n",
    "        if 'fvos' in i.keys():\n",
    "            df_fvos = pd.DataFrame(data=i['fvos'])\n",
    "            df_fvos.set_index(\"id\")\n",
    "            df_fvos['path'] = df_fvos.apply(lambda x: make_clickable(x['path']+\"#L\"+str(x['sourceline'])), axis=1)\n",
    "            #df_fvos['path'] = df_fvos.apply(lambda x: make_clickable(x['path']), axis=1)\n",
    "            #df_fvos.set_index(\"filename\")\n",
    "            filename = i['filename']\n",
    "            fvoDocReport = outputPath + \"/\" + filename.replace('.xml','_fvoReport.html')\n",
    "            with open(fvoDocReport, 'w', encoding=\"utf-8\") as f:\n",
    "                f.write(df_fvos.to_html(render_links=True, escape=False))"
   ]
  }
 ],
 "metadata": {
  "kernelspec": {
   "display_name": "Python 3 (ipykernel)",
   "language": "python",
   "name": "python3"
  },
  "language_info": {
   "codemirror_mode": {
    "name": "ipython",
    "version": 3
   },
   "file_extension": ".py",
   "mimetype": "text/x-python",
   "name": "python",
   "nbconvert_exporter": "python",
   "pygments_lexer": "ipython3",
   "version": "3.11.3"
  }
 },
 "nbformat": 4,
 "nbformat_minor": 5
}
